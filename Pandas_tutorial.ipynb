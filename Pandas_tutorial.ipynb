{
 "cells": [
  {
   "cell_type": "code",
   "execution_count": 1,
   "id": "6c1fc578-e2ca-4e81-840c-6da7b12a2e1d",
   "metadata": {},
   "outputs": [],
   "source": [
    "import numpy as np\n",
    "import pandas as pd"
   ]
  },
  {
   "cell_type": "code",
   "execution_count": 2,
   "id": "1fef1f69-9384-42f0-9845-3e2a3c4be921",
   "metadata": {},
   "outputs": [],
   "source": [
    "dict1 = {\n",
    "    \"name\":['harry', 'rohan', 'skillf', 'subha'],\n",
    "    \"mark\":[92, 34, 24, 17],\n",
    "    \"city\":['rampur', 'kolkata', 'barelly','balasore']\n",
    "}"
   ]
  },
  {
   "cell_type": "markdown",
   "id": "91ad1aba-b52b-44ef-b19a-af096e3c198e",
   "metadata": {},
   "source": [
    "## Convert the given dictionary in to dataframe"
   ]
  },
  {
   "cell_type": "code",
   "execution_count": 3,
   "id": "32d3b588-9709-450f-b72a-a7455cd459b6",
   "metadata": {},
   "outputs": [],
   "source": [
    "df = pd.DataFrame(dict1)"
   ]
  },
  {
   "cell_type": "code",
   "execution_count": 4,
   "id": "f02a9366-2a60-4761-b5c7-10122020cb92",
   "metadata": {},
   "outputs": [
    {
     "data": {
      "text/html": [
       "<div>\n",
       "<style scoped>\n",
       "    .dataframe tbody tr th:only-of-type {\n",
       "        vertical-align: middle;\n",
       "    }\n",
       "\n",
       "    .dataframe tbody tr th {\n",
       "        vertical-align: top;\n",
       "    }\n",
       "\n",
       "    .dataframe thead th {\n",
       "        text-align: right;\n",
       "    }\n",
       "</style>\n",
       "<table border=\"1\" class=\"dataframe\">\n",
       "  <thead>\n",
       "    <tr style=\"text-align: right;\">\n",
       "      <th></th>\n",
       "      <th>name</th>\n",
       "      <th>mark</th>\n",
       "      <th>city</th>\n",
       "    </tr>\n",
       "  </thead>\n",
       "  <tbody>\n",
       "    <tr>\n",
       "      <th>0</th>\n",
       "      <td>harry</td>\n",
       "      <td>92</td>\n",
       "      <td>rampur</td>\n",
       "    </tr>\n",
       "    <tr>\n",
       "      <th>1</th>\n",
       "      <td>rohan</td>\n",
       "      <td>34</td>\n",
       "      <td>kolkata</td>\n",
       "    </tr>\n",
       "    <tr>\n",
       "      <th>2</th>\n",
       "      <td>skillf</td>\n",
       "      <td>24</td>\n",
       "      <td>barelly</td>\n",
       "    </tr>\n",
       "    <tr>\n",
       "      <th>3</th>\n",
       "      <td>subha</td>\n",
       "      <td>17</td>\n",
       "      <td>balasore</td>\n",
       "    </tr>\n",
       "  </tbody>\n",
       "</table>\n",
       "</div>"
      ],
      "text/plain": [
       "     name  mark      city\n",
       "0   harry    92    rampur\n",
       "1   rohan    34   kolkata\n",
       "2  skillf    24   barelly\n",
       "3   subha    17  balasore"
      ]
     },
     "execution_count": 4,
     "metadata": {},
     "output_type": "execute_result"
    }
   ],
   "source": [
    "df"
   ]
  },
  {
   "cell_type": "markdown",
   "id": "ea78ff2f-c126-485d-8cfd-2b16ce378add",
   "metadata": {},
   "source": [
    "## Convert the dataframe into csv file or any type of file i.e. Excel file"
   ]
  },
  {
   "cell_type": "code",
   "execution_count": 5,
   "id": "c06c9d22-52e6-40b4-8801-1667f9421255",
   "metadata": {},
   "outputs": [],
   "source": [
    "df.to_csv('friend.csv')"
   ]
  },
  {
   "cell_type": "code",
   "execution_count": 6,
   "id": "95559641-9aeb-44ee-a6e6-cb1c0270c3a4",
   "metadata": {},
   "outputs": [],
   "source": [
    "df.to_csv('friend_indexFalse.csv', index=False)"
   ]
  },
  {
   "cell_type": "code",
   "execution_count": 7,
   "id": "7890fabb-d407-4485-be2e-1d0d0d7c32e9",
   "metadata": {},
   "outputs": [
    {
     "data": {
      "text/html": [
       "<div>\n",
       "<style scoped>\n",
       "    .dataframe tbody tr th:only-of-type {\n",
       "        vertical-align: middle;\n",
       "    }\n",
       "\n",
       "    .dataframe tbody tr th {\n",
       "        vertical-align: top;\n",
       "    }\n",
       "\n",
       "    .dataframe thead th {\n",
       "        text-align: right;\n",
       "    }\n",
       "</style>\n",
       "<table border=\"1\" class=\"dataframe\">\n",
       "  <thead>\n",
       "    <tr style=\"text-align: right;\">\n",
       "      <th></th>\n",
       "      <th>name</th>\n",
       "      <th>mark</th>\n",
       "      <th>city</th>\n",
       "    </tr>\n",
       "  </thead>\n",
       "  <tbody>\n",
       "    <tr>\n",
       "      <th>0</th>\n",
       "      <td>harry</td>\n",
       "      <td>92</td>\n",
       "      <td>rampur</td>\n",
       "    </tr>\n",
       "    <tr>\n",
       "      <th>1</th>\n",
       "      <td>rohan</td>\n",
       "      <td>34</td>\n",
       "      <td>kolkata</td>\n",
       "    </tr>\n",
       "  </tbody>\n",
       "</table>\n",
       "</div>"
      ],
      "text/plain": [
       "    name  mark     city\n",
       "0  harry    92   rampur\n",
       "1  rohan    34  kolkata"
      ]
     },
     "execution_count": 7,
     "metadata": {},
     "output_type": "execute_result"
    }
   ],
   "source": [
    "df.head(2) # To show first two rows"
   ]
  },
  {
   "cell_type": "code",
   "execution_count": 8,
   "id": "e03393ec-860a-46cd-b71b-18753afc3ef4",
   "metadata": {},
   "outputs": [
    {
     "data": {
      "text/html": [
       "<div>\n",
       "<style scoped>\n",
       "    .dataframe tbody tr th:only-of-type {\n",
       "        vertical-align: middle;\n",
       "    }\n",
       "\n",
       "    .dataframe tbody tr th {\n",
       "        vertical-align: top;\n",
       "    }\n",
       "\n",
       "    .dataframe thead th {\n",
       "        text-align: right;\n",
       "    }\n",
       "</style>\n",
       "<table border=\"1\" class=\"dataframe\">\n",
       "  <thead>\n",
       "    <tr style=\"text-align: right;\">\n",
       "      <th></th>\n",
       "      <th>name</th>\n",
       "      <th>mark</th>\n",
       "      <th>city</th>\n",
       "    </tr>\n",
       "  </thead>\n",
       "  <tbody>\n",
       "    <tr>\n",
       "      <th>2</th>\n",
       "      <td>skillf</td>\n",
       "      <td>24</td>\n",
       "      <td>barelly</td>\n",
       "    </tr>\n",
       "    <tr>\n",
       "      <th>3</th>\n",
       "      <td>subha</td>\n",
       "      <td>17</td>\n",
       "      <td>balasore</td>\n",
       "    </tr>\n",
       "  </tbody>\n",
       "</table>\n",
       "</div>"
      ],
      "text/plain": [
       "     name  mark      city\n",
       "2  skillf    24   barelly\n",
       "3   subha    17  balasore"
      ]
     },
     "execution_count": 8,
     "metadata": {},
     "output_type": "execute_result"
    }
   ],
   "source": [
    "df.tail(2) # To show last two rows"
   ]
  },
  {
   "cell_type": "code",
   "execution_count": 9,
   "id": "a4b7857e-f422-40e1-89f8-67641a951acb",
   "metadata": {},
   "outputs": [
    {
     "data": {
      "text/html": [
       "<div>\n",
       "<style scoped>\n",
       "    .dataframe tbody tr th:only-of-type {\n",
       "        vertical-align: middle;\n",
       "    }\n",
       "\n",
       "    .dataframe tbody tr th {\n",
       "        vertical-align: top;\n",
       "    }\n",
       "\n",
       "    .dataframe thead th {\n",
       "        text-align: right;\n",
       "    }\n",
       "</style>\n",
       "<table border=\"1\" class=\"dataframe\">\n",
       "  <thead>\n",
       "    <tr style=\"text-align: right;\">\n",
       "      <th></th>\n",
       "      <th>mark</th>\n",
       "    </tr>\n",
       "  </thead>\n",
       "  <tbody>\n",
       "    <tr>\n",
       "      <th>count</th>\n",
       "      <td>4.00000</td>\n",
       "    </tr>\n",
       "    <tr>\n",
       "      <th>mean</th>\n",
       "      <td>41.75000</td>\n",
       "    </tr>\n",
       "    <tr>\n",
       "      <th>std</th>\n",
       "      <td>34.21866</td>\n",
       "    </tr>\n",
       "    <tr>\n",
       "      <th>min</th>\n",
       "      <td>17.00000</td>\n",
       "    </tr>\n",
       "    <tr>\n",
       "      <th>25%</th>\n",
       "      <td>22.25000</td>\n",
       "    </tr>\n",
       "    <tr>\n",
       "      <th>50%</th>\n",
       "      <td>29.00000</td>\n",
       "    </tr>\n",
       "    <tr>\n",
       "      <th>75%</th>\n",
       "      <td>48.50000</td>\n",
       "    </tr>\n",
       "    <tr>\n",
       "      <th>max</th>\n",
       "      <td>92.00000</td>\n",
       "    </tr>\n",
       "  </tbody>\n",
       "</table>\n",
       "</div>"
      ],
      "text/plain": [
       "           mark\n",
       "count   4.00000\n",
       "mean   41.75000\n",
       "std    34.21866\n",
       "min    17.00000\n",
       "25%    22.25000\n",
       "50%    29.00000\n",
       "75%    48.50000\n",
       "max    92.00000"
      ]
     },
     "execution_count": 9,
     "metadata": {},
     "output_type": "execute_result"
    }
   ],
   "source": [
    "df.describe() # To describe the numerical values of the data set"
   ]
  },
  {
   "cell_type": "code",
   "execution_count": 10,
   "id": "501b301d-ec5c-48ba-9fdb-0a1fe500cf9e",
   "metadata": {},
   "outputs": [
    {
     "data": {
      "text/html": [
       "<div>\n",
       "<style scoped>\n",
       "    .dataframe tbody tr th:only-of-type {\n",
       "        vertical-align: middle;\n",
       "    }\n",
       "\n",
       "    .dataframe tbody tr th {\n",
       "        vertical-align: top;\n",
       "    }\n",
       "\n",
       "    .dataframe thead th {\n",
       "        text-align: right;\n",
       "    }\n",
       "</style>\n",
       "<table border=\"1\" class=\"dataframe\">\n",
       "  <thead>\n",
       "    <tr style=\"text-align: right;\">\n",
       "      <th></th>\n",
       "      <th>name</th>\n",
       "      <th>mark</th>\n",
       "      <th>city</th>\n",
       "    </tr>\n",
       "  </thead>\n",
       "  <tbody>\n",
       "    <tr>\n",
       "      <th>0</th>\n",
       "      <td>harry</td>\n",
       "      <td>92</td>\n",
       "      <td>rampur</td>\n",
       "    </tr>\n",
       "    <tr>\n",
       "      <th>1</th>\n",
       "      <td>rohan</td>\n",
       "      <td>34</td>\n",
       "      <td>kolkata</td>\n",
       "    </tr>\n",
       "    <tr>\n",
       "      <th>2</th>\n",
       "      <td>skillf</td>\n",
       "      <td>24</td>\n",
       "      <td>barelly</td>\n",
       "    </tr>\n",
       "    <tr>\n",
       "      <th>3</th>\n",
       "      <td>subha</td>\n",
       "      <td>17</td>\n",
       "      <td>balasore</td>\n",
       "    </tr>\n",
       "  </tbody>\n",
       "</table>\n",
       "</div>"
      ],
      "text/plain": [
       "     name  mark      city\n",
       "0   harry    92    rampur\n",
       "1   rohan    34   kolkata\n",
       "2  skillf    24   barelly\n",
       "3   subha    17  balasore"
      ]
     },
     "execution_count": 10,
     "metadata": {},
     "output_type": "execute_result"
    }
   ],
   "source": [
    "df"
   ]
  },
  {
   "cell_type": "markdown",
   "id": "8bd6ecd5-a2d8-45cc-9cad-30c6e9e6241b",
   "metadata": {},
   "source": [
    "## To change a content in the csv file"
   ]
  },
  {
   "cell_type": "code",
   "execution_count": 11,
   "id": "6240d5d3-0b0e-4905-a576-53b918a6cc3a",
   "metadata": {},
   "outputs": [
    {
     "name": "stderr",
     "output_type": "stream",
     "text": [
      "C:\\Users\\mebub_9a7jdi8\\AppData\\Local\\Temp\\ipykernel_13088\\2341372380.py:1: SettingWithCopyWarning: \n",
      "A value is trying to be set on a copy of a slice from a DataFrame\n",
      "\n",
      "See the caveats in the documentation: https://pandas.pydata.org/pandas-docs/stable/user_guide/indexing.html#returning-a-view-versus-a-copy\n",
      "  df['name'][0] = 'Bubu'\n"
     ]
    }
   ],
   "source": [
    "df['name'][0] = 'Bubu'"
   ]
  },
  {
   "cell_type": "code",
   "execution_count": 12,
   "id": "9cb22bbb-e93c-456d-aee2-72f7f12559a8",
   "metadata": {},
   "outputs": [
    {
     "data": {
      "text/html": [
       "<div>\n",
       "<style scoped>\n",
       "    .dataframe tbody tr th:only-of-type {\n",
       "        vertical-align: middle;\n",
       "    }\n",
       "\n",
       "    .dataframe tbody tr th {\n",
       "        vertical-align: top;\n",
       "    }\n",
       "\n",
       "    .dataframe thead th {\n",
       "        text-align: right;\n",
       "    }\n",
       "</style>\n",
       "<table border=\"1\" class=\"dataframe\">\n",
       "  <thead>\n",
       "    <tr style=\"text-align: right;\">\n",
       "      <th></th>\n",
       "      <th>name</th>\n",
       "      <th>mark</th>\n",
       "      <th>city</th>\n",
       "    </tr>\n",
       "  </thead>\n",
       "  <tbody>\n",
       "    <tr>\n",
       "      <th>0</th>\n",
       "      <td>Bubu</td>\n",
       "      <td>92</td>\n",
       "      <td>rampur</td>\n",
       "    </tr>\n",
       "    <tr>\n",
       "      <th>1</th>\n",
       "      <td>rohan</td>\n",
       "      <td>34</td>\n",
       "      <td>kolkata</td>\n",
       "    </tr>\n",
       "    <tr>\n",
       "      <th>2</th>\n",
       "      <td>skillf</td>\n",
       "      <td>24</td>\n",
       "      <td>barelly</td>\n",
       "    </tr>\n",
       "    <tr>\n",
       "      <th>3</th>\n",
       "      <td>subha</td>\n",
       "      <td>17</td>\n",
       "      <td>balasore</td>\n",
       "    </tr>\n",
       "  </tbody>\n",
       "</table>\n",
       "</div>"
      ],
      "text/plain": [
       "     name  mark      city\n",
       "0    Bubu    92    rampur\n",
       "1   rohan    34   kolkata\n",
       "2  skillf    24   barelly\n",
       "3   subha    17  balasore"
      ]
     },
     "execution_count": 12,
     "metadata": {},
     "output_type": "execute_result"
    }
   ],
   "source": [
    "df"
   ]
  },
  {
   "cell_type": "markdown",
   "id": "148ed550-27da-4a16-b7a7-14414bfec338",
   "metadata": {},
   "source": [
    "## To change the Index number "
   ]
  },
  {
   "cell_type": "code",
   "execution_count": 13,
   "id": "0f2df778-8c72-43d5-8545-c788018d981d",
   "metadata": {},
   "outputs": [],
   "source": [
    "df.index = ['first', 'second', 'third', 'fourth']"
   ]
  },
  {
   "cell_type": "code",
   "execution_count": 14,
   "id": "34c1f503-e5cd-4496-b9ed-c0d0d65ba4c8",
   "metadata": {},
   "outputs": [
    {
     "data": {
      "text/html": [
       "<div>\n",
       "<style scoped>\n",
       "    .dataframe tbody tr th:only-of-type {\n",
       "        vertical-align: middle;\n",
       "    }\n",
       "\n",
       "    .dataframe tbody tr th {\n",
       "        vertical-align: top;\n",
       "    }\n",
       "\n",
       "    .dataframe thead th {\n",
       "        text-align: right;\n",
       "    }\n",
       "</style>\n",
       "<table border=\"1\" class=\"dataframe\">\n",
       "  <thead>\n",
       "    <tr style=\"text-align: right;\">\n",
       "      <th></th>\n",
       "      <th>name</th>\n",
       "      <th>mark</th>\n",
       "      <th>city</th>\n",
       "    </tr>\n",
       "  </thead>\n",
       "  <tbody>\n",
       "    <tr>\n",
       "      <th>first</th>\n",
       "      <td>Bubu</td>\n",
       "      <td>92</td>\n",
       "      <td>rampur</td>\n",
       "    </tr>\n",
       "    <tr>\n",
       "      <th>second</th>\n",
       "      <td>rohan</td>\n",
       "      <td>34</td>\n",
       "      <td>kolkata</td>\n",
       "    </tr>\n",
       "    <tr>\n",
       "      <th>third</th>\n",
       "      <td>skillf</td>\n",
       "      <td>24</td>\n",
       "      <td>barelly</td>\n",
       "    </tr>\n",
       "    <tr>\n",
       "      <th>fourth</th>\n",
       "      <td>subha</td>\n",
       "      <td>17</td>\n",
       "      <td>balasore</td>\n",
       "    </tr>\n",
       "  </tbody>\n",
       "</table>\n",
       "</div>"
      ],
      "text/plain": [
       "          name  mark      city\n",
       "first     Bubu    92    rampur\n",
       "second   rohan    34   kolkata\n",
       "third   skillf    24   barelly\n",
       "fourth   subha    17  balasore"
      ]
     },
     "execution_count": 14,
     "metadata": {},
     "output_type": "execute_result"
    }
   ],
   "source": [
    "df"
   ]
  },
  {
   "cell_type": "markdown",
   "id": "e4ad9307-0f6a-4443-8df8-26bfa11f37b3",
   "metadata": {},
   "source": [
    "## How to print a series"
   ]
  },
  {
   "cell_type": "code",
   "execution_count": 15,
   "id": "de951f0f-0cc1-43a9-b4fc-a233b92bc9a3",
   "metadata": {},
   "outputs": [],
   "source": [
    "ser = pd.Series(np.random.rand(34))"
   ]
  },
  {
   "cell_type": "code",
   "execution_count": 16,
   "id": "341742f8-3fcf-4c2e-acdb-9ca90d68205c",
   "metadata": {},
   "outputs": [
    {
     "data": {
      "text/plain": [
       "0     0.674190\n",
       "1     0.485599\n",
       "2     0.450791\n",
       "3     0.190809\n",
       "4     0.830369\n",
       "5     0.589445\n",
       "6     0.286087\n",
       "7     0.990652\n",
       "8     0.185445\n",
       "9     0.381976\n",
       "10    0.867284\n",
       "11    0.220248\n",
       "12    0.918172\n",
       "13    0.948836\n",
       "14    0.146758\n",
       "15    0.771094\n",
       "16    0.430948\n",
       "17    0.311011\n",
       "18    0.192619\n",
       "19    0.873042\n",
       "20    0.854767\n",
       "21    0.550153\n",
       "22    0.804099\n",
       "23    0.308777\n",
       "24    0.335256\n",
       "25    0.574441\n",
       "26    0.809414\n",
       "27    0.200034\n",
       "28    0.974687\n",
       "29    0.747886\n",
       "30    0.498938\n",
       "31    0.495085\n",
       "32    0.871821\n",
       "33    0.450236\n",
       "dtype: float64"
      ]
     },
     "execution_count": 16,
     "metadata": {},
     "output_type": "execute_result"
    }
   ],
   "source": [
    "ser"
   ]
  },
  {
   "cell_type": "code",
   "execution_count": 17,
   "id": "7a789df9-aabb-4468-a523-ee409dedf27b",
   "metadata": {},
   "outputs": [
    {
     "data": {
      "text/plain": [
       "pandas.core.series.Series"
      ]
     },
     "execution_count": 17,
     "metadata": {},
     "output_type": "execute_result"
    }
   ],
   "source": [
    "type (ser)"
   ]
  },
  {
   "cell_type": "markdown",
   "id": "82801548-0463-41d3-aa76-01eb913b1beb",
   "metadata": {},
   "source": [
    "## To make a new dataframe"
   ]
  },
  {
   "cell_type": "code",
   "execution_count": 18,
   "id": "264264c9-c1ba-43bc-bf45-85d72cc354cc",
   "metadata": {},
   "outputs": [],
   "source": [
    "newdf = pd.DataFrame(np.random.rand(334,5), index=np.arange(334))"
   ]
  },
  {
   "cell_type": "code",
   "execution_count": 19,
   "id": "9f783c4a-49ac-4774-bcfc-2109d4091fac",
   "metadata": {},
   "outputs": [
    {
     "data": {
      "text/html": [
       "<div>\n",
       "<style scoped>\n",
       "    .dataframe tbody tr th:only-of-type {\n",
       "        vertical-align: middle;\n",
       "    }\n",
       "\n",
       "    .dataframe tbody tr th {\n",
       "        vertical-align: top;\n",
       "    }\n",
       "\n",
       "    .dataframe thead th {\n",
       "        text-align: right;\n",
       "    }\n",
       "</style>\n",
       "<table border=\"1\" class=\"dataframe\">\n",
       "  <thead>\n",
       "    <tr style=\"text-align: right;\">\n",
       "      <th></th>\n",
       "      <th>0</th>\n",
       "      <th>1</th>\n",
       "      <th>2</th>\n",
       "      <th>3</th>\n",
       "      <th>4</th>\n",
       "    </tr>\n",
       "  </thead>\n",
       "  <tbody>\n",
       "    <tr>\n",
       "      <th>0</th>\n",
       "      <td>0.702217</td>\n",
       "      <td>0.923708</td>\n",
       "      <td>0.259200</td>\n",
       "      <td>0.524982</td>\n",
       "      <td>0.496971</td>\n",
       "    </tr>\n",
       "    <tr>\n",
       "      <th>1</th>\n",
       "      <td>0.849028</td>\n",
       "      <td>0.769802</td>\n",
       "      <td>0.883670</td>\n",
       "      <td>0.323103</td>\n",
       "      <td>0.939383</td>\n",
       "    </tr>\n",
       "    <tr>\n",
       "      <th>2</th>\n",
       "      <td>0.950162</td>\n",
       "      <td>0.444841</td>\n",
       "      <td>0.076574</td>\n",
       "      <td>0.776139</td>\n",
       "      <td>0.074358</td>\n",
       "    </tr>\n",
       "    <tr>\n",
       "      <th>3</th>\n",
       "      <td>0.946049</td>\n",
       "      <td>0.314503</td>\n",
       "      <td>0.379802</td>\n",
       "      <td>0.442014</td>\n",
       "      <td>0.758148</td>\n",
       "    </tr>\n",
       "    <tr>\n",
       "      <th>4</th>\n",
       "      <td>0.620420</td>\n",
       "      <td>0.738981</td>\n",
       "      <td>0.494159</td>\n",
       "      <td>0.403256</td>\n",
       "      <td>0.241247</td>\n",
       "    </tr>\n",
       "  </tbody>\n",
       "</table>\n",
       "</div>"
      ],
      "text/plain": [
       "          0         1         2         3         4\n",
       "0  0.702217  0.923708  0.259200  0.524982  0.496971\n",
       "1  0.849028  0.769802  0.883670  0.323103  0.939383\n",
       "2  0.950162  0.444841  0.076574  0.776139  0.074358\n",
       "3  0.946049  0.314503  0.379802  0.442014  0.758148\n",
       "4  0.620420  0.738981  0.494159  0.403256  0.241247"
      ]
     },
     "execution_count": 19,
     "metadata": {},
     "output_type": "execute_result"
    }
   ],
   "source": [
    "newdf.head()"
   ]
  },
  {
   "cell_type": "code",
   "execution_count": 20,
   "id": "e5cef3ff-02a3-483e-9c5b-e5d3872e40b5",
   "metadata": {},
   "outputs": [
    {
     "data": {
      "text/plain": [
       "pandas.core.frame.DataFrame"
      ]
     },
     "execution_count": 20,
     "metadata": {},
     "output_type": "execute_result"
    }
   ],
   "source": [
    "type(newdf)"
   ]
  },
  {
   "cell_type": "markdown",
   "id": "b28c8a83-24b4-4770-bf57-772d6a9ffeee",
   "metadata": {},
   "source": [
    "## To change the dara type"
   ]
  },
  {
   "cell_type": "code",
   "execution_count": 21,
   "id": "0d0ed300-96a0-4b5f-91d7-55a0418d7f2f",
   "metadata": {},
   "outputs": [],
   "source": [
    "# newdf[0][0] = \"bubu\""
   ]
  },
  {
   "cell_type": "code",
   "execution_count": 22,
   "id": "f0fadd91-1c99-4c1f-85b4-9cb5c3f2521c",
   "metadata": {},
   "outputs": [
    {
     "data": {
      "text/plain": [
       "0    float64\n",
       "1    float64\n",
       "2    float64\n",
       "3    float64\n",
       "4    float64\n",
       "dtype: object"
      ]
     },
     "execution_count": 22,
     "metadata": {},
     "output_type": "execute_result"
    }
   ],
   "source": [
    "newdf.dtypes"
   ]
  },
  {
   "cell_type": "code",
   "execution_count": 23,
   "id": "40b5001d-a78a-41df-8a55-c8be229884ea",
   "metadata": {},
   "outputs": [
    {
     "data": {
      "text/html": [
       "<div>\n",
       "<style scoped>\n",
       "    .dataframe tbody tr th:only-of-type {\n",
       "        vertical-align: middle;\n",
       "    }\n",
       "\n",
       "    .dataframe tbody tr th {\n",
       "        vertical-align: top;\n",
       "    }\n",
       "\n",
       "    .dataframe thead th {\n",
       "        text-align: right;\n",
       "    }\n",
       "</style>\n",
       "<table border=\"1\" class=\"dataframe\">\n",
       "  <thead>\n",
       "    <tr style=\"text-align: right;\">\n",
       "      <th></th>\n",
       "      <th>0</th>\n",
       "      <th>1</th>\n",
       "      <th>2</th>\n",
       "      <th>3</th>\n",
       "      <th>4</th>\n",
       "    </tr>\n",
       "  </thead>\n",
       "  <tbody>\n",
       "    <tr>\n",
       "      <th>0</th>\n",
       "      <td>0.702217</td>\n",
       "      <td>0.923708</td>\n",
       "      <td>0.259200</td>\n",
       "      <td>0.524982</td>\n",
       "      <td>0.496971</td>\n",
       "    </tr>\n",
       "    <tr>\n",
       "      <th>1</th>\n",
       "      <td>0.849028</td>\n",
       "      <td>0.769802</td>\n",
       "      <td>0.883670</td>\n",
       "      <td>0.323103</td>\n",
       "      <td>0.939383</td>\n",
       "    </tr>\n",
       "    <tr>\n",
       "      <th>2</th>\n",
       "      <td>0.950162</td>\n",
       "      <td>0.444841</td>\n",
       "      <td>0.076574</td>\n",
       "      <td>0.776139</td>\n",
       "      <td>0.074358</td>\n",
       "    </tr>\n",
       "    <tr>\n",
       "      <th>3</th>\n",
       "      <td>0.946049</td>\n",
       "      <td>0.314503</td>\n",
       "      <td>0.379802</td>\n",
       "      <td>0.442014</td>\n",
       "      <td>0.758148</td>\n",
       "    </tr>\n",
       "    <tr>\n",
       "      <th>4</th>\n",
       "      <td>0.620420</td>\n",
       "      <td>0.738981</td>\n",
       "      <td>0.494159</td>\n",
       "      <td>0.403256</td>\n",
       "      <td>0.241247</td>\n",
       "    </tr>\n",
       "  </tbody>\n",
       "</table>\n",
       "</div>"
      ],
      "text/plain": [
       "          0         1         2         3         4\n",
       "0  0.702217  0.923708  0.259200  0.524982  0.496971\n",
       "1  0.849028  0.769802  0.883670  0.323103  0.939383\n",
       "2  0.950162  0.444841  0.076574  0.776139  0.074358\n",
       "3  0.946049  0.314503  0.379802  0.442014  0.758148\n",
       "4  0.620420  0.738981  0.494159  0.403256  0.241247"
      ]
     },
     "execution_count": 23,
     "metadata": {},
     "output_type": "execute_result"
    }
   ],
   "source": [
    "newdf.head()"
   ]
  },
  {
   "cell_type": "code",
   "execution_count": 24,
   "id": "8e6e9fb0-a7b7-4d5b-87e0-f4f60b9bf0ea",
   "metadata": {},
   "outputs": [
    {
     "data": {
      "text/plain": [
       "Index([  0,   1,   2,   3,   4,   5,   6,   7,   8,   9,\n",
       "       ...\n",
       "       324, 325, 326, 327, 328, 329, 330, 331, 332, 333],\n",
       "      dtype='int32', length=334)"
      ]
     },
     "execution_count": 24,
     "metadata": {},
     "output_type": "execute_result"
    }
   ],
   "source": [
    "newdf.index"
   ]
  },
  {
   "cell_type": "markdown",
   "id": "dee4c698-4022-4563-b4c7-88dd75eb2e3a",
   "metadata": {},
   "source": [
    "## How to convert a dataframe into numpy arrays"
   ]
  },
  {
   "cell_type": "code",
   "execution_count": 25,
   "id": "3e4a9c06-b9a4-4286-8b5d-8228460879bf",
   "metadata": {},
   "outputs": [
    {
     "data": {
      "text/plain": [
       "array([[0.70221669, 0.92370788, 0.25920028, 0.52498221, 0.49697141],\n",
       "       [0.84902804, 0.76980172, 0.88366964, 0.32310294, 0.93938251],\n",
       "       [0.95016225, 0.44484086, 0.07657441, 0.77613899, 0.07435816],\n",
       "       ...,\n",
       "       [0.85244576, 0.06588105, 0.6883256 , 0.73388682, 0.08505519],\n",
       "       [0.51413733, 0.95208412, 0.58794432, 0.17065361, 0.37379724],\n",
       "       [0.94922766, 0.9293486 , 0.60101759, 0.92758663, 0.9245314 ]])"
      ]
     },
     "execution_count": 25,
     "metadata": {},
     "output_type": "execute_result"
    }
   ],
   "source": [
    "newdf.to_numpy()"
   ]
  },
  {
   "cell_type": "markdown",
   "id": "76b090fb-4f18-4e5f-8537-d4bcc396fe2a",
   "metadata": {},
   "source": [
    "## Transpose (convert rows into columns and vice versa)"
   ]
  },
  {
   "cell_type": "code",
   "execution_count": 26,
   "id": "65ca6cdc-f879-4331-a762-07930f8d8497",
   "metadata": {},
   "outputs": [
    {
     "data": {
      "text/html": [
       "<div>\n",
       "<style scoped>\n",
       "    .dataframe tbody tr th:only-of-type {\n",
       "        vertical-align: middle;\n",
       "    }\n",
       "\n",
       "    .dataframe tbody tr th {\n",
       "        vertical-align: top;\n",
       "    }\n",
       "\n",
       "    .dataframe thead th {\n",
       "        text-align: right;\n",
       "    }\n",
       "</style>\n",
       "<table border=\"1\" class=\"dataframe\">\n",
       "  <thead>\n",
       "    <tr style=\"text-align: right;\">\n",
       "      <th></th>\n",
       "      <th>0</th>\n",
       "      <th>1</th>\n",
       "      <th>2</th>\n",
       "      <th>3</th>\n",
       "      <th>4</th>\n",
       "      <th>5</th>\n",
       "      <th>6</th>\n",
       "      <th>7</th>\n",
       "      <th>8</th>\n",
       "      <th>9</th>\n",
       "      <th>...</th>\n",
       "      <th>324</th>\n",
       "      <th>325</th>\n",
       "      <th>326</th>\n",
       "      <th>327</th>\n",
       "      <th>328</th>\n",
       "      <th>329</th>\n",
       "      <th>330</th>\n",
       "      <th>331</th>\n",
       "      <th>332</th>\n",
       "      <th>333</th>\n",
       "    </tr>\n",
       "  </thead>\n",
       "  <tbody>\n",
       "    <tr>\n",
       "      <th>0</th>\n",
       "      <td>0.702217</td>\n",
       "      <td>0.849028</td>\n",
       "      <td>0.950162</td>\n",
       "      <td>0.946049</td>\n",
       "      <td>0.620420</td>\n",
       "      <td>0.443452</td>\n",
       "      <td>0.447293</td>\n",
       "      <td>0.081530</td>\n",
       "      <td>0.333555</td>\n",
       "      <td>0.320481</td>\n",
       "      <td>...</td>\n",
       "      <td>0.603794</td>\n",
       "      <td>0.263741</td>\n",
       "      <td>0.394487</td>\n",
       "      <td>0.177145</td>\n",
       "      <td>0.658945</td>\n",
       "      <td>0.427329</td>\n",
       "      <td>0.555079</td>\n",
       "      <td>0.852446</td>\n",
       "      <td>0.514137</td>\n",
       "      <td>0.949228</td>\n",
       "    </tr>\n",
       "    <tr>\n",
       "      <th>1</th>\n",
       "      <td>0.923708</td>\n",
       "      <td>0.769802</td>\n",
       "      <td>0.444841</td>\n",
       "      <td>0.314503</td>\n",
       "      <td>0.738981</td>\n",
       "      <td>0.594387</td>\n",
       "      <td>0.466345</td>\n",
       "      <td>0.443566</td>\n",
       "      <td>0.549738</td>\n",
       "      <td>0.851800</td>\n",
       "      <td>...</td>\n",
       "      <td>0.815560</td>\n",
       "      <td>0.573994</td>\n",
       "      <td>0.898859</td>\n",
       "      <td>0.746975</td>\n",
       "      <td>0.131447</td>\n",
       "      <td>0.900832</td>\n",
       "      <td>0.223160</td>\n",
       "      <td>0.065881</td>\n",
       "      <td>0.952084</td>\n",
       "      <td>0.929349</td>\n",
       "    </tr>\n",
       "    <tr>\n",
       "      <th>2</th>\n",
       "      <td>0.259200</td>\n",
       "      <td>0.883670</td>\n",
       "      <td>0.076574</td>\n",
       "      <td>0.379802</td>\n",
       "      <td>0.494159</td>\n",
       "      <td>0.882427</td>\n",
       "      <td>0.258969</td>\n",
       "      <td>0.051070</td>\n",
       "      <td>0.763216</td>\n",
       "      <td>0.779365</td>\n",
       "      <td>...</td>\n",
       "      <td>0.931165</td>\n",
       "      <td>0.825866</td>\n",
       "      <td>0.148338</td>\n",
       "      <td>0.978576</td>\n",
       "      <td>0.807704</td>\n",
       "      <td>0.340793</td>\n",
       "      <td>0.824479</td>\n",
       "      <td>0.688326</td>\n",
       "      <td>0.587944</td>\n",
       "      <td>0.601018</td>\n",
       "    </tr>\n",
       "    <tr>\n",
       "      <th>3</th>\n",
       "      <td>0.524982</td>\n",
       "      <td>0.323103</td>\n",
       "      <td>0.776139</td>\n",
       "      <td>0.442014</td>\n",
       "      <td>0.403256</td>\n",
       "      <td>0.760302</td>\n",
       "      <td>0.750634</td>\n",
       "      <td>0.641224</td>\n",
       "      <td>0.905773</td>\n",
       "      <td>0.980225</td>\n",
       "      <td>...</td>\n",
       "      <td>0.978113</td>\n",
       "      <td>0.509636</td>\n",
       "      <td>0.810411</td>\n",
       "      <td>0.889212</td>\n",
       "      <td>0.618525</td>\n",
       "      <td>0.206068</td>\n",
       "      <td>0.551342</td>\n",
       "      <td>0.733887</td>\n",
       "      <td>0.170654</td>\n",
       "      <td>0.927587</td>\n",
       "    </tr>\n",
       "    <tr>\n",
       "      <th>4</th>\n",
       "      <td>0.496971</td>\n",
       "      <td>0.939383</td>\n",
       "      <td>0.074358</td>\n",
       "      <td>0.758148</td>\n",
       "      <td>0.241247</td>\n",
       "      <td>0.688128</td>\n",
       "      <td>0.258850</td>\n",
       "      <td>0.182581</td>\n",
       "      <td>0.458410</td>\n",
       "      <td>0.070386</td>\n",
       "      <td>...</td>\n",
       "      <td>0.611625</td>\n",
       "      <td>0.582812</td>\n",
       "      <td>0.652119</td>\n",
       "      <td>0.272643</td>\n",
       "      <td>0.470343</td>\n",
       "      <td>0.764197</td>\n",
       "      <td>0.129768</td>\n",
       "      <td>0.085055</td>\n",
       "      <td>0.373797</td>\n",
       "      <td>0.924531</td>\n",
       "    </tr>\n",
       "  </tbody>\n",
       "</table>\n",
       "<p>5 rows × 334 columns</p>\n",
       "</div>"
      ],
      "text/plain": [
       "        0         1         2         3         4         5         6    \\\n",
       "0  0.702217  0.849028  0.950162  0.946049  0.620420  0.443452  0.447293   \n",
       "1  0.923708  0.769802  0.444841  0.314503  0.738981  0.594387  0.466345   \n",
       "2  0.259200  0.883670  0.076574  0.379802  0.494159  0.882427  0.258969   \n",
       "3  0.524982  0.323103  0.776139  0.442014  0.403256  0.760302  0.750634   \n",
       "4  0.496971  0.939383  0.074358  0.758148  0.241247  0.688128  0.258850   \n",
       "\n",
       "        7         8         9    ...       324       325       326       327  \\\n",
       "0  0.081530  0.333555  0.320481  ...  0.603794  0.263741  0.394487  0.177145   \n",
       "1  0.443566  0.549738  0.851800  ...  0.815560  0.573994  0.898859  0.746975   \n",
       "2  0.051070  0.763216  0.779365  ...  0.931165  0.825866  0.148338  0.978576   \n",
       "3  0.641224  0.905773  0.980225  ...  0.978113  0.509636  0.810411  0.889212   \n",
       "4  0.182581  0.458410  0.070386  ...  0.611625  0.582812  0.652119  0.272643   \n",
       "\n",
       "        328       329       330       331       332       333  \n",
       "0  0.658945  0.427329  0.555079  0.852446  0.514137  0.949228  \n",
       "1  0.131447  0.900832  0.223160  0.065881  0.952084  0.929349  \n",
       "2  0.807704  0.340793  0.824479  0.688326  0.587944  0.601018  \n",
       "3  0.618525  0.206068  0.551342  0.733887  0.170654  0.927587  \n",
       "4  0.470343  0.764197  0.129768  0.085055  0.373797  0.924531  \n",
       "\n",
       "[5 rows x 334 columns]"
      ]
     },
     "execution_count": 26,
     "metadata": {},
     "output_type": "execute_result"
    }
   ],
   "source": [
    "newdf.T"
   ]
  },
  {
   "cell_type": "markdown",
   "id": "fc5fd63b-34cc-4f26-91f6-0d0794f994c5",
   "metadata": {},
   "source": [
    "Sort the dataframe upside down"
   ]
  },
  {
   "cell_type": "code",
   "execution_count": 27,
   "id": "26f9f10b-7d51-4f55-93ec-a6439290f990",
   "metadata": {},
   "outputs": [
    {
     "data": {
      "text/html": [
       "<div>\n",
       "<style scoped>\n",
       "    .dataframe tbody tr th:only-of-type {\n",
       "        vertical-align: middle;\n",
       "    }\n",
       "\n",
       "    .dataframe tbody tr th {\n",
       "        vertical-align: top;\n",
       "    }\n",
       "\n",
       "    .dataframe thead th {\n",
       "        text-align: right;\n",
       "    }\n",
       "</style>\n",
       "<table border=\"1\" class=\"dataframe\">\n",
       "  <thead>\n",
       "    <tr style=\"text-align: right;\">\n",
       "      <th></th>\n",
       "      <th>0</th>\n",
       "      <th>1</th>\n",
       "      <th>2</th>\n",
       "      <th>3</th>\n",
       "      <th>4</th>\n",
       "    </tr>\n",
       "  </thead>\n",
       "  <tbody>\n",
       "    <tr>\n",
       "      <th>333</th>\n",
       "      <td>0.949228</td>\n",
       "      <td>0.929349</td>\n",
       "      <td>0.601018</td>\n",
       "      <td>0.927587</td>\n",
       "      <td>0.924531</td>\n",
       "    </tr>\n",
       "    <tr>\n",
       "      <th>332</th>\n",
       "      <td>0.514137</td>\n",
       "      <td>0.952084</td>\n",
       "      <td>0.587944</td>\n",
       "      <td>0.170654</td>\n",
       "      <td>0.373797</td>\n",
       "    </tr>\n",
       "    <tr>\n",
       "      <th>331</th>\n",
       "      <td>0.852446</td>\n",
       "      <td>0.065881</td>\n",
       "      <td>0.688326</td>\n",
       "      <td>0.733887</td>\n",
       "      <td>0.085055</td>\n",
       "    </tr>\n",
       "    <tr>\n",
       "      <th>330</th>\n",
       "      <td>0.555079</td>\n",
       "      <td>0.223160</td>\n",
       "      <td>0.824479</td>\n",
       "      <td>0.551342</td>\n",
       "      <td>0.129768</td>\n",
       "    </tr>\n",
       "    <tr>\n",
       "      <th>329</th>\n",
       "      <td>0.427329</td>\n",
       "      <td>0.900832</td>\n",
       "      <td>0.340793</td>\n",
       "      <td>0.206068</td>\n",
       "      <td>0.764197</td>\n",
       "    </tr>\n",
       "  </tbody>\n",
       "</table>\n",
       "</div>"
      ],
      "text/plain": [
       "            0         1         2         3         4\n",
       "333  0.949228  0.929349  0.601018  0.927587  0.924531\n",
       "332  0.514137  0.952084  0.587944  0.170654  0.373797\n",
       "331  0.852446  0.065881  0.688326  0.733887  0.085055\n",
       "330  0.555079  0.223160  0.824479  0.551342  0.129768\n",
       "329  0.427329  0.900832  0.340793  0.206068  0.764197"
      ]
     },
     "execution_count": 27,
     "metadata": {},
     "output_type": "execute_result"
    }
   ],
   "source": [
    "newdf.sort_index(axis=0, ascending=False).head()  # axis=0 : Row, axis=1 : column"
   ]
  },
  {
   "cell_type": "code",
   "execution_count": 28,
   "id": "327a252f-ef9a-4a64-8fd8-8a9c904f85f7",
   "metadata": {},
   "outputs": [
    {
     "data": {
      "text/plain": [
       "0      0.702217\n",
       "1      0.849028\n",
       "2      0.950162\n",
       "3      0.946049\n",
       "4      0.620420\n",
       "         ...   \n",
       "329    0.427329\n",
       "330    0.555079\n",
       "331    0.852446\n",
       "332    0.514137\n",
       "333    0.949228\n",
       "Name: 0, Length: 334, dtype: float64"
      ]
     },
     "execution_count": 28,
     "metadata": {},
     "output_type": "execute_result"
    }
   ],
   "source": [
    "newdf[0]"
   ]
  },
  {
   "cell_type": "code",
   "execution_count": 29,
   "id": "3b81f990-a978-4549-8517-98fee4ac00e4",
   "metadata": {},
   "outputs": [],
   "source": [
    "newdf2 = newdf.copy()"
   ]
  },
  {
   "cell_type": "code",
   "execution_count": 30,
   "id": "f8eb6c03-24a5-499f-b364-133c2f470895",
   "metadata": {},
   "outputs": [],
   "source": [
    "newdf2[0][0] = 97835"
   ]
  },
  {
   "cell_type": "code",
   "execution_count": 31,
   "id": "3d625dfe-0fce-4448-a951-c39df1bb3167",
   "metadata": {},
   "outputs": [
    {
     "data": {
      "text/html": [
       "<div>\n",
       "<style scoped>\n",
       "    .dataframe tbody tr th:only-of-type {\n",
       "        vertical-align: middle;\n",
       "    }\n",
       "\n",
       "    .dataframe tbody tr th {\n",
       "        vertical-align: top;\n",
       "    }\n",
       "\n",
       "    .dataframe thead th {\n",
       "        text-align: right;\n",
       "    }\n",
       "</style>\n",
       "<table border=\"1\" class=\"dataframe\">\n",
       "  <thead>\n",
       "    <tr style=\"text-align: right;\">\n",
       "      <th></th>\n",
       "      <th>0</th>\n",
       "      <th>1</th>\n",
       "      <th>2</th>\n",
       "      <th>3</th>\n",
       "      <th>4</th>\n",
       "    </tr>\n",
       "  </thead>\n",
       "  <tbody>\n",
       "    <tr>\n",
       "      <th>0</th>\n",
       "      <td>0.702217</td>\n",
       "      <td>0.923708</td>\n",
       "      <td>0.259200</td>\n",
       "      <td>0.524982</td>\n",
       "      <td>0.496971</td>\n",
       "    </tr>\n",
       "    <tr>\n",
       "      <th>1</th>\n",
       "      <td>0.849028</td>\n",
       "      <td>0.769802</td>\n",
       "      <td>0.883670</td>\n",
       "      <td>0.323103</td>\n",
       "      <td>0.939383</td>\n",
       "    </tr>\n",
       "    <tr>\n",
       "      <th>2</th>\n",
       "      <td>0.950162</td>\n",
       "      <td>0.444841</td>\n",
       "      <td>0.076574</td>\n",
       "      <td>0.776139</td>\n",
       "      <td>0.074358</td>\n",
       "    </tr>\n",
       "    <tr>\n",
       "      <th>3</th>\n",
       "      <td>0.946049</td>\n",
       "      <td>0.314503</td>\n",
       "      <td>0.379802</td>\n",
       "      <td>0.442014</td>\n",
       "      <td>0.758148</td>\n",
       "    </tr>\n",
       "    <tr>\n",
       "      <th>4</th>\n",
       "      <td>0.620420</td>\n",
       "      <td>0.738981</td>\n",
       "      <td>0.494159</td>\n",
       "      <td>0.403256</td>\n",
       "      <td>0.241247</td>\n",
       "    </tr>\n",
       "  </tbody>\n",
       "</table>\n",
       "</div>"
      ],
      "text/plain": [
       "          0         1         2         3         4\n",
       "0  0.702217  0.923708  0.259200  0.524982  0.496971\n",
       "1  0.849028  0.769802  0.883670  0.323103  0.939383\n",
       "2  0.950162  0.444841  0.076574  0.776139  0.074358\n",
       "3  0.946049  0.314503  0.379802  0.442014  0.758148\n",
       "4  0.620420  0.738981  0.494159  0.403256  0.241247"
      ]
     },
     "execution_count": 31,
     "metadata": {},
     "output_type": "execute_result"
    }
   ],
   "source": [
    "newdf.head()"
   ]
  },
  {
   "cell_type": "code",
   "execution_count": null,
   "id": "159cf22f-ca3a-4780-b048-97adb3be7808",
   "metadata": {},
   "outputs": [],
   "source": []
  },
  {
   "cell_type": "code",
   "execution_count": 32,
   "id": "c072d077-b867-405c-9fcb-6e2dff6fd730",
   "metadata": {},
   "outputs": [
    {
     "data": {
      "text/html": [
       "<div>\n",
       "<style scoped>\n",
       "    .dataframe tbody tr th:only-of-type {\n",
       "        vertical-align: middle;\n",
       "    }\n",
       "\n",
       "    .dataframe tbody tr th {\n",
       "        vertical-align: top;\n",
       "    }\n",
       "\n",
       "    .dataframe thead th {\n",
       "        text-align: right;\n",
       "    }\n",
       "</style>\n",
       "<table border=\"1\" class=\"dataframe\">\n",
       "  <thead>\n",
       "    <tr style=\"text-align: right;\">\n",
       "      <th></th>\n",
       "      <th>0</th>\n",
       "      <th>1</th>\n",
       "      <th>2</th>\n",
       "      <th>3</th>\n",
       "      <th>4</th>\n",
       "    </tr>\n",
       "  </thead>\n",
       "  <tbody>\n",
       "    <tr>\n",
       "      <th>0</th>\n",
       "      <td>97835.000000</td>\n",
       "      <td>0.923708</td>\n",
       "      <td>0.259200</td>\n",
       "      <td>0.524982</td>\n",
       "      <td>0.496971</td>\n",
       "    </tr>\n",
       "    <tr>\n",
       "      <th>1</th>\n",
       "      <td>0.849028</td>\n",
       "      <td>0.769802</td>\n",
       "      <td>0.883670</td>\n",
       "      <td>0.323103</td>\n",
       "      <td>0.939383</td>\n",
       "    </tr>\n",
       "    <tr>\n",
       "      <th>2</th>\n",
       "      <td>0.950162</td>\n",
       "      <td>0.444841</td>\n",
       "      <td>0.076574</td>\n",
       "      <td>0.776139</td>\n",
       "      <td>0.074358</td>\n",
       "    </tr>\n",
       "    <tr>\n",
       "      <th>3</th>\n",
       "      <td>0.946049</td>\n",
       "      <td>0.314503</td>\n",
       "      <td>0.379802</td>\n",
       "      <td>0.442014</td>\n",
       "      <td>0.758148</td>\n",
       "    </tr>\n",
       "    <tr>\n",
       "      <th>4</th>\n",
       "      <td>0.620420</td>\n",
       "      <td>0.738981</td>\n",
       "      <td>0.494159</td>\n",
       "      <td>0.403256</td>\n",
       "      <td>0.241247</td>\n",
       "    </tr>\n",
       "  </tbody>\n",
       "</table>\n",
       "</div>"
      ],
      "text/plain": [
       "              0         1         2         3         4\n",
       "0  97835.000000  0.923708  0.259200  0.524982  0.496971\n",
       "1      0.849028  0.769802  0.883670  0.323103  0.939383\n",
       "2      0.950162  0.444841  0.076574  0.776139  0.074358\n",
       "3      0.946049  0.314503  0.379802  0.442014  0.758148\n",
       "4      0.620420  0.738981  0.494159  0.403256  0.241247"
      ]
     },
     "execution_count": 32,
     "metadata": {},
     "output_type": "execute_result"
    }
   ],
   "source": [
    "newdf2.head()"
   ]
  },
  {
   "cell_type": "code",
   "execution_count": 33,
   "id": "f810e969-b93d-4dd1-92c4-91855e198580",
   "metadata": {},
   "outputs": [],
   "source": [
    "newdf.columns = list(\"ABCDE\") # To change the naming of the columns"
   ]
  },
  {
   "cell_type": "code",
   "execution_count": 34,
   "id": "43d680b3-09c0-4fc5-ae14-09d4ead82cad",
   "metadata": {},
   "outputs": [
    {
     "data": {
      "text/html": [
       "<div>\n",
       "<style scoped>\n",
       "    .dataframe tbody tr th:only-of-type {\n",
       "        vertical-align: middle;\n",
       "    }\n",
       "\n",
       "    .dataframe tbody tr th {\n",
       "        vertical-align: top;\n",
       "    }\n",
       "\n",
       "    .dataframe thead th {\n",
       "        text-align: right;\n",
       "    }\n",
       "</style>\n",
       "<table border=\"1\" class=\"dataframe\">\n",
       "  <thead>\n",
       "    <tr style=\"text-align: right;\">\n",
       "      <th></th>\n",
       "      <th>A</th>\n",
       "      <th>B</th>\n",
       "      <th>C</th>\n",
       "      <th>D</th>\n",
       "      <th>E</th>\n",
       "    </tr>\n",
       "  </thead>\n",
       "  <tbody>\n",
       "    <tr>\n",
       "      <th>0</th>\n",
       "      <td>0.702217</td>\n",
       "      <td>0.923708</td>\n",
       "      <td>0.25920</td>\n",
       "      <td>0.524982</td>\n",
       "      <td>0.496971</td>\n",
       "    </tr>\n",
       "    <tr>\n",
       "      <th>1</th>\n",
       "      <td>0.849028</td>\n",
       "      <td>0.769802</td>\n",
       "      <td>0.88367</td>\n",
       "      <td>0.323103</td>\n",
       "      <td>0.939383</td>\n",
       "    </tr>\n",
       "  </tbody>\n",
       "</table>\n",
       "</div>"
      ],
      "text/plain": [
       "          A         B        C         D         E\n",
       "0  0.702217  0.923708  0.25920  0.524982  0.496971\n",
       "1  0.849028  0.769802  0.88367  0.323103  0.939383"
      ]
     },
     "execution_count": 34,
     "metadata": {},
     "output_type": "execute_result"
    }
   ],
   "source": [
    "newdf.head(2)"
   ]
  },
  {
   "cell_type": "code",
   "execution_count": 35,
   "id": "0310d4d8-77f4-4a91-a1fa-ae647d918bb2",
   "metadata": {},
   "outputs": [],
   "source": [
    "newdf.loc[0, 'A'] = 65445"
   ]
  },
  {
   "cell_type": "code",
   "execution_count": 36,
   "id": "393c7c5d-69d8-4fe8-935a-74d0f13e0c7d",
   "metadata": {},
   "outputs": [],
   "source": [
    "newdf.loc[0, 0] = 65445"
   ]
  },
  {
   "cell_type": "code",
   "execution_count": 37,
   "id": "d5cbc64a-ca76-4d31-9e14-cba60fc54c26",
   "metadata": {},
   "outputs": [
    {
     "data": {
      "text/html": [
       "<div>\n",
       "<style scoped>\n",
       "    .dataframe tbody tr th:only-of-type {\n",
       "        vertical-align: middle;\n",
       "    }\n",
       "\n",
       "    .dataframe tbody tr th {\n",
       "        vertical-align: top;\n",
       "    }\n",
       "\n",
       "    .dataframe thead th {\n",
       "        text-align: right;\n",
       "    }\n",
       "</style>\n",
       "<table border=\"1\" class=\"dataframe\">\n",
       "  <thead>\n",
       "    <tr style=\"text-align: right;\">\n",
       "      <th></th>\n",
       "      <th>A</th>\n",
       "      <th>B</th>\n",
       "      <th>C</th>\n",
       "      <th>D</th>\n",
       "      <th>E</th>\n",
       "      <th>0</th>\n",
       "    </tr>\n",
       "  </thead>\n",
       "  <tbody>\n",
       "    <tr>\n",
       "      <th>0</th>\n",
       "      <td>65445.000000</td>\n",
       "      <td>0.923708</td>\n",
       "      <td>0.259200</td>\n",
       "      <td>0.524982</td>\n",
       "      <td>0.496971</td>\n",
       "      <td>65445.0</td>\n",
       "    </tr>\n",
       "    <tr>\n",
       "      <th>1</th>\n",
       "      <td>0.849028</td>\n",
       "      <td>0.769802</td>\n",
       "      <td>0.883670</td>\n",
       "      <td>0.323103</td>\n",
       "      <td>0.939383</td>\n",
       "      <td>NaN</td>\n",
       "    </tr>\n",
       "    <tr>\n",
       "      <th>2</th>\n",
       "      <td>0.950162</td>\n",
       "      <td>0.444841</td>\n",
       "      <td>0.076574</td>\n",
       "      <td>0.776139</td>\n",
       "      <td>0.074358</td>\n",
       "      <td>NaN</td>\n",
       "    </tr>\n",
       "    <tr>\n",
       "      <th>3</th>\n",
       "      <td>0.946049</td>\n",
       "      <td>0.314503</td>\n",
       "      <td>0.379802</td>\n",
       "      <td>0.442014</td>\n",
       "      <td>0.758148</td>\n",
       "      <td>NaN</td>\n",
       "    </tr>\n",
       "    <tr>\n",
       "      <th>4</th>\n",
       "      <td>0.620420</td>\n",
       "      <td>0.738981</td>\n",
       "      <td>0.494159</td>\n",
       "      <td>0.403256</td>\n",
       "      <td>0.241247</td>\n",
       "      <td>NaN</td>\n",
       "    </tr>\n",
       "  </tbody>\n",
       "</table>\n",
       "</div>"
      ],
      "text/plain": [
       "              A         B         C         D         E        0\n",
       "0  65445.000000  0.923708  0.259200  0.524982  0.496971  65445.0\n",
       "1      0.849028  0.769802  0.883670  0.323103  0.939383      NaN\n",
       "2      0.950162  0.444841  0.076574  0.776139  0.074358      NaN\n",
       "3      0.946049  0.314503  0.379802  0.442014  0.758148      NaN\n",
       "4      0.620420  0.738981  0.494159  0.403256  0.241247      NaN"
      ]
     },
     "execution_count": 37,
     "metadata": {},
     "output_type": "execute_result"
    }
   ],
   "source": [
    "newdf.head()"
   ]
  },
  {
   "cell_type": "code",
   "execution_count": 38,
   "id": "3e51600e-5ab5-493d-8e0f-56de914b601b",
   "metadata": {},
   "outputs": [],
   "source": [
    "newdf = newdf.drop(0, axis=1) # To drop a column (axis=1) , to drop a row (axis=0)"
   ]
  },
  {
   "cell_type": "code",
   "execution_count": 39,
   "id": "ad602b91-c4a8-4172-80d6-7cdf4bc08fae",
   "metadata": {},
   "outputs": [
    {
     "data": {
      "text/html": [
       "<div>\n",
       "<style scoped>\n",
       "    .dataframe tbody tr th:only-of-type {\n",
       "        vertical-align: middle;\n",
       "    }\n",
       "\n",
       "    .dataframe tbody tr th {\n",
       "        vertical-align: top;\n",
       "    }\n",
       "\n",
       "    .dataframe thead th {\n",
       "        text-align: right;\n",
       "    }\n",
       "</style>\n",
       "<table border=\"1\" class=\"dataframe\">\n",
       "  <thead>\n",
       "    <tr style=\"text-align: right;\">\n",
       "      <th></th>\n",
       "      <th>A</th>\n",
       "      <th>B</th>\n",
       "      <th>C</th>\n",
       "      <th>D</th>\n",
       "      <th>E</th>\n",
       "    </tr>\n",
       "  </thead>\n",
       "  <tbody>\n",
       "    <tr>\n",
       "      <th>0</th>\n",
       "      <td>65445.000000</td>\n",
       "      <td>0.923708</td>\n",
       "      <td>0.259200</td>\n",
       "      <td>0.524982</td>\n",
       "      <td>0.496971</td>\n",
       "    </tr>\n",
       "    <tr>\n",
       "      <th>1</th>\n",
       "      <td>0.849028</td>\n",
       "      <td>0.769802</td>\n",
       "      <td>0.883670</td>\n",
       "      <td>0.323103</td>\n",
       "      <td>0.939383</td>\n",
       "    </tr>\n",
       "    <tr>\n",
       "      <th>2</th>\n",
       "      <td>0.950162</td>\n",
       "      <td>0.444841</td>\n",
       "      <td>0.076574</td>\n",
       "      <td>0.776139</td>\n",
       "      <td>0.074358</td>\n",
       "    </tr>\n",
       "    <tr>\n",
       "      <th>3</th>\n",
       "      <td>0.946049</td>\n",
       "      <td>0.314503</td>\n",
       "      <td>0.379802</td>\n",
       "      <td>0.442014</td>\n",
       "      <td>0.758148</td>\n",
       "    </tr>\n",
       "    <tr>\n",
       "      <th>4</th>\n",
       "      <td>0.620420</td>\n",
       "      <td>0.738981</td>\n",
       "      <td>0.494159</td>\n",
       "      <td>0.403256</td>\n",
       "      <td>0.241247</td>\n",
       "    </tr>\n",
       "  </tbody>\n",
       "</table>\n",
       "</div>"
      ],
      "text/plain": [
       "              A         B         C         D         E\n",
       "0  65445.000000  0.923708  0.259200  0.524982  0.496971\n",
       "1      0.849028  0.769802  0.883670  0.323103  0.939383\n",
       "2      0.950162  0.444841  0.076574  0.776139  0.074358\n",
       "3      0.946049  0.314503  0.379802  0.442014  0.758148\n",
       "4      0.620420  0.738981  0.494159  0.403256  0.241247"
      ]
     },
     "execution_count": 39,
     "metadata": {},
     "output_type": "execute_result"
    }
   ],
   "source": [
    "newdf.head()"
   ]
  },
  {
   "cell_type": "code",
   "execution_count": 40,
   "id": "66275609-a0c2-4b69-9e02-67383b70d466",
   "metadata": {},
   "outputs": [
    {
     "data": {
      "text/html": [
       "<div>\n",
       "<style scoped>\n",
       "    .dataframe tbody tr th:only-of-type {\n",
       "        vertical-align: middle;\n",
       "    }\n",
       "\n",
       "    .dataframe tbody tr th {\n",
       "        vertical-align: top;\n",
       "    }\n",
       "\n",
       "    .dataframe thead th {\n",
       "        text-align: right;\n",
       "    }\n",
       "</style>\n",
       "<table border=\"1\" class=\"dataframe\">\n",
       "  <thead>\n",
       "    <tr style=\"text-align: right;\">\n",
       "      <th></th>\n",
       "      <th>C</th>\n",
       "      <th>D</th>\n",
       "    </tr>\n",
       "  </thead>\n",
       "  <tbody>\n",
       "    <tr>\n",
       "      <th>1</th>\n",
       "      <td>0.883670</td>\n",
       "      <td>0.323103</td>\n",
       "    </tr>\n",
       "    <tr>\n",
       "      <th>2</th>\n",
       "      <td>0.076574</td>\n",
       "      <td>0.776139</td>\n",
       "    </tr>\n",
       "  </tbody>\n",
       "</table>\n",
       "</div>"
      ],
      "text/plain": [
       "          C         D\n",
       "1  0.883670  0.323103\n",
       "2  0.076574  0.776139"
      ]
     },
     "execution_count": 40,
     "metadata": {},
     "output_type": "execute_result"
    }
   ],
   "source": [
    "newdf.loc[[1,2], ['C', 'D']]"
   ]
  },
  {
   "cell_type": "code",
   "execution_count": 41,
   "id": "ed460c88-b1b8-4cf7-8d72-c5f6968f5faa",
   "metadata": {},
   "outputs": [
    {
     "data": {
      "text/html": [
       "<div>\n",
       "<style scoped>\n",
       "    .dataframe tbody tr th:only-of-type {\n",
       "        vertical-align: middle;\n",
       "    }\n",
       "\n",
       "    .dataframe tbody tr th {\n",
       "        vertical-align: top;\n",
       "    }\n",
       "\n",
       "    .dataframe thead th {\n",
       "        text-align: right;\n",
       "    }\n",
       "</style>\n",
       "<table border=\"1\" class=\"dataframe\">\n",
       "  <thead>\n",
       "    <tr style=\"text-align: right;\">\n",
       "      <th></th>\n",
       "      <th>A</th>\n",
       "      <th>B</th>\n",
       "      <th>C</th>\n",
       "      <th>D</th>\n",
       "      <th>E</th>\n",
       "    </tr>\n",
       "  </thead>\n",
       "  <tbody>\n",
       "    <tr>\n",
       "      <th>0</th>\n",
       "      <td>65445.000000</td>\n",
       "      <td>0.923708</td>\n",
       "      <td>0.259200</td>\n",
       "      <td>0.524982</td>\n",
       "      <td>0.496971</td>\n",
       "    </tr>\n",
       "    <tr>\n",
       "      <th>1</th>\n",
       "      <td>0.849028</td>\n",
       "      <td>0.769802</td>\n",
       "      <td>0.883670</td>\n",
       "      <td>0.323103</td>\n",
       "      <td>0.939383</td>\n",
       "    </tr>\n",
       "    <tr>\n",
       "      <th>2</th>\n",
       "      <td>0.950162</td>\n",
       "      <td>0.444841</td>\n",
       "      <td>0.076574</td>\n",
       "      <td>0.776139</td>\n",
       "      <td>0.074358</td>\n",
       "    </tr>\n",
       "    <tr>\n",
       "      <th>3</th>\n",
       "      <td>0.946049</td>\n",
       "      <td>0.314503</td>\n",
       "      <td>0.379802</td>\n",
       "      <td>0.442014</td>\n",
       "      <td>0.758148</td>\n",
       "    </tr>\n",
       "    <tr>\n",
       "      <th>4</th>\n",
       "      <td>0.620420</td>\n",
       "      <td>0.738981</td>\n",
       "      <td>0.494159</td>\n",
       "      <td>0.403256</td>\n",
       "      <td>0.241247</td>\n",
       "    </tr>\n",
       "  </tbody>\n",
       "</table>\n",
       "</div>"
      ],
      "text/plain": [
       "              A         B         C         D         E\n",
       "0  65445.000000  0.923708  0.259200  0.524982  0.496971\n",
       "1      0.849028  0.769802  0.883670  0.323103  0.939383\n",
       "2      0.950162  0.444841  0.076574  0.776139  0.074358\n",
       "3      0.946049  0.314503  0.379802  0.442014  0.758148\n",
       "4      0.620420  0.738981  0.494159  0.403256  0.241247"
      ]
     },
     "execution_count": 41,
     "metadata": {},
     "output_type": "execute_result"
    }
   ],
   "source": [
    "newdf.head()"
   ]
  },
  {
   "cell_type": "code",
   "execution_count": 42,
   "id": "c3376652-fad4-46bb-8494-0d12af13d1f2",
   "metadata": {},
   "outputs": [
    {
     "data": {
      "text/html": [
       "<div>\n",
       "<style scoped>\n",
       "    .dataframe tbody tr th:only-of-type {\n",
       "        vertical-align: middle;\n",
       "    }\n",
       "\n",
       "    .dataframe tbody tr th {\n",
       "        vertical-align: top;\n",
       "    }\n",
       "\n",
       "    .dataframe thead th {\n",
       "        text-align: right;\n",
       "    }\n",
       "</style>\n",
       "<table border=\"1\" class=\"dataframe\">\n",
       "  <thead>\n",
       "    <tr style=\"text-align: right;\">\n",
       "      <th></th>\n",
       "      <th>A</th>\n",
       "      <th>B</th>\n",
       "      <th>C</th>\n",
       "      <th>D</th>\n",
       "      <th>E</th>\n",
       "    </tr>\n",
       "  </thead>\n",
       "  <tbody>\n",
       "    <tr>\n",
       "      <th>1</th>\n",
       "      <td>0.849028</td>\n",
       "      <td>0.769802</td>\n",
       "      <td>0.883670</td>\n",
       "      <td>0.323103</td>\n",
       "      <td>0.939383</td>\n",
       "    </tr>\n",
       "    <tr>\n",
       "      <th>2</th>\n",
       "      <td>0.950162</td>\n",
       "      <td>0.444841</td>\n",
       "      <td>0.076574</td>\n",
       "      <td>0.776139</td>\n",
       "      <td>0.074358</td>\n",
       "    </tr>\n",
       "  </tbody>\n",
       "</table>\n",
       "</div>"
      ],
      "text/plain": [
       "          A         B         C         D         E\n",
       "1  0.849028  0.769802  0.883670  0.323103  0.939383\n",
       "2  0.950162  0.444841  0.076574  0.776139  0.074358"
      ]
     },
     "execution_count": 42,
     "metadata": {},
     "output_type": "execute_result"
    }
   ],
   "source": [
    "newdf.loc[[1,2], :]"
   ]
  },
  {
   "cell_type": "code",
   "execution_count": 43,
   "id": "c3ea6567-699c-4faf-8a82-ab8af4f7e018",
   "metadata": {},
   "outputs": [
    {
     "data": {
      "text/html": [
       "<div>\n",
       "<style scoped>\n",
       "    .dataframe tbody tr th:only-of-type {\n",
       "        vertical-align: middle;\n",
       "    }\n",
       "\n",
       "    .dataframe tbody tr th {\n",
       "        vertical-align: top;\n",
       "    }\n",
       "\n",
       "    .dataframe thead th {\n",
       "        text-align: right;\n",
       "    }\n",
       "</style>\n",
       "<table border=\"1\" class=\"dataframe\">\n",
       "  <thead>\n",
       "    <tr style=\"text-align: right;\">\n",
       "      <th></th>\n",
       "      <th>A</th>\n",
       "      <th>B</th>\n",
       "      <th>C</th>\n",
       "      <th>D</th>\n",
       "      <th>E</th>\n",
       "    </tr>\n",
       "  </thead>\n",
       "  <tbody>\n",
       "    <tr>\n",
       "      <th>7</th>\n",
       "      <td>0.081530</td>\n",
       "      <td>0.443566</td>\n",
       "      <td>0.051070</td>\n",
       "      <td>0.641224</td>\n",
       "      <td>0.182581</td>\n",
       "    </tr>\n",
       "    <tr>\n",
       "      <th>10</th>\n",
       "      <td>0.069941</td>\n",
       "      <td>0.028621</td>\n",
       "      <td>0.153320</td>\n",
       "      <td>0.319281</td>\n",
       "      <td>0.478298</td>\n",
       "    </tr>\n",
       "    <tr>\n",
       "      <th>13</th>\n",
       "      <td>0.041209</td>\n",
       "      <td>0.229171</td>\n",
       "      <td>0.359312</td>\n",
       "      <td>0.361204</td>\n",
       "      <td>0.540582</td>\n",
       "    </tr>\n",
       "    <tr>\n",
       "      <th>14</th>\n",
       "      <td>0.280075</td>\n",
       "      <td>0.952507</td>\n",
       "      <td>0.977163</td>\n",
       "      <td>0.937404</td>\n",
       "      <td>0.103720</td>\n",
       "    </tr>\n",
       "    <tr>\n",
       "      <th>15</th>\n",
       "      <td>0.013815</td>\n",
       "      <td>0.531852</td>\n",
       "      <td>0.241433</td>\n",
       "      <td>0.303093</td>\n",
       "      <td>0.904927</td>\n",
       "    </tr>\n",
       "    <tr>\n",
       "      <th>...</th>\n",
       "      <td>...</td>\n",
       "      <td>...</td>\n",
       "      <td>...</td>\n",
       "      <td>...</td>\n",
       "      <td>...</td>\n",
       "    </tr>\n",
       "    <tr>\n",
       "      <th>315</th>\n",
       "      <td>0.165512</td>\n",
       "      <td>0.333142</td>\n",
       "      <td>0.231138</td>\n",
       "      <td>0.613065</td>\n",
       "      <td>0.091939</td>\n",
       "    </tr>\n",
       "    <tr>\n",
       "      <th>322</th>\n",
       "      <td>0.214761</td>\n",
       "      <td>0.936437</td>\n",
       "      <td>0.950671</td>\n",
       "      <td>0.310580</td>\n",
       "      <td>0.712946</td>\n",
       "    </tr>\n",
       "    <tr>\n",
       "      <th>323</th>\n",
       "      <td>0.006906</td>\n",
       "      <td>0.203342</td>\n",
       "      <td>0.296265</td>\n",
       "      <td>0.369739</td>\n",
       "      <td>0.421447</td>\n",
       "    </tr>\n",
       "    <tr>\n",
       "      <th>325</th>\n",
       "      <td>0.263741</td>\n",
       "      <td>0.573994</td>\n",
       "      <td>0.825866</td>\n",
       "      <td>0.509636</td>\n",
       "      <td>0.582812</td>\n",
       "    </tr>\n",
       "    <tr>\n",
       "      <th>327</th>\n",
       "      <td>0.177145</td>\n",
       "      <td>0.746975</td>\n",
       "      <td>0.978576</td>\n",
       "      <td>0.889212</td>\n",
       "      <td>0.272643</td>\n",
       "    </tr>\n",
       "  </tbody>\n",
       "</table>\n",
       "<p>102 rows × 5 columns</p>\n",
       "</div>"
      ],
      "text/plain": [
       "            A         B         C         D         E\n",
       "7    0.081530  0.443566  0.051070  0.641224  0.182581\n",
       "10   0.069941  0.028621  0.153320  0.319281  0.478298\n",
       "13   0.041209  0.229171  0.359312  0.361204  0.540582\n",
       "14   0.280075  0.952507  0.977163  0.937404  0.103720\n",
       "15   0.013815  0.531852  0.241433  0.303093  0.904927\n",
       "..        ...       ...       ...       ...       ...\n",
       "315  0.165512  0.333142  0.231138  0.613065  0.091939\n",
       "322  0.214761  0.936437  0.950671  0.310580  0.712946\n",
       "323  0.006906  0.203342  0.296265  0.369739  0.421447\n",
       "325  0.263741  0.573994  0.825866  0.509636  0.582812\n",
       "327  0.177145  0.746975  0.978576  0.889212  0.272643\n",
       "\n",
       "[102 rows x 5 columns]"
      ]
     },
     "execution_count": 43,
     "metadata": {},
     "output_type": "execute_result"
    }
   ],
   "source": [
    "newdf.loc[(newdf['A']<0.3)] # Applying a condition"
   ]
  },
  {
   "cell_type": "code",
   "execution_count": 44,
   "id": "bd62db02-876a-4db0-8adb-4e6f54cdac14",
   "metadata": {},
   "outputs": [
    {
     "data": {
      "text/html": [
       "<div>\n",
       "<style scoped>\n",
       "    .dataframe tbody tr th:only-of-type {\n",
       "        vertical-align: middle;\n",
       "    }\n",
       "\n",
       "    .dataframe tbody tr th {\n",
       "        vertical-align: top;\n",
       "    }\n",
       "\n",
       "    .dataframe thead th {\n",
       "        text-align: right;\n",
       "    }\n",
       "</style>\n",
       "<table border=\"1\" class=\"dataframe\">\n",
       "  <thead>\n",
       "    <tr style=\"text-align: right;\">\n",
       "      <th></th>\n",
       "      <th>A</th>\n",
       "      <th>B</th>\n",
       "      <th>C</th>\n",
       "      <th>D</th>\n",
       "      <th>E</th>\n",
       "    </tr>\n",
       "  </thead>\n",
       "  <tbody>\n",
       "    <tr>\n",
       "      <th>10</th>\n",
       "      <td>0.069941</td>\n",
       "      <td>0.028621</td>\n",
       "      <td>0.153320</td>\n",
       "      <td>0.319281</td>\n",
       "      <td>0.478298</td>\n",
       "    </tr>\n",
       "    <tr>\n",
       "      <th>13</th>\n",
       "      <td>0.041209</td>\n",
       "      <td>0.229171</td>\n",
       "      <td>0.359312</td>\n",
       "      <td>0.361204</td>\n",
       "      <td>0.540582</td>\n",
       "    </tr>\n",
       "    <tr>\n",
       "      <th>14</th>\n",
       "      <td>0.280075</td>\n",
       "      <td>0.952507</td>\n",
       "      <td>0.977163</td>\n",
       "      <td>0.937404</td>\n",
       "      <td>0.103720</td>\n",
       "    </tr>\n",
       "    <tr>\n",
       "      <th>15</th>\n",
       "      <td>0.013815</td>\n",
       "      <td>0.531852</td>\n",
       "      <td>0.241433</td>\n",
       "      <td>0.303093</td>\n",
       "      <td>0.904927</td>\n",
       "    </tr>\n",
       "    <tr>\n",
       "      <th>17</th>\n",
       "      <td>0.245447</td>\n",
       "      <td>0.322934</td>\n",
       "      <td>0.502634</td>\n",
       "      <td>0.968776</td>\n",
       "      <td>0.896276</td>\n",
       "    </tr>\n",
       "    <tr>\n",
       "      <th>...</th>\n",
       "      <td>...</td>\n",
       "      <td>...</td>\n",
       "      <td>...</td>\n",
       "      <td>...</td>\n",
       "      <td>...</td>\n",
       "    </tr>\n",
       "    <tr>\n",
       "      <th>315</th>\n",
       "      <td>0.165512</td>\n",
       "      <td>0.333142</td>\n",
       "      <td>0.231138</td>\n",
       "      <td>0.613065</td>\n",
       "      <td>0.091939</td>\n",
       "    </tr>\n",
       "    <tr>\n",
       "      <th>322</th>\n",
       "      <td>0.214761</td>\n",
       "      <td>0.936437</td>\n",
       "      <td>0.950671</td>\n",
       "      <td>0.310580</td>\n",
       "      <td>0.712946</td>\n",
       "    </tr>\n",
       "    <tr>\n",
       "      <th>323</th>\n",
       "      <td>0.006906</td>\n",
       "      <td>0.203342</td>\n",
       "      <td>0.296265</td>\n",
       "      <td>0.369739</td>\n",
       "      <td>0.421447</td>\n",
       "    </tr>\n",
       "    <tr>\n",
       "      <th>325</th>\n",
       "      <td>0.263741</td>\n",
       "      <td>0.573994</td>\n",
       "      <td>0.825866</td>\n",
       "      <td>0.509636</td>\n",
       "      <td>0.582812</td>\n",
       "    </tr>\n",
       "    <tr>\n",
       "      <th>327</th>\n",
       "      <td>0.177145</td>\n",
       "      <td>0.746975</td>\n",
       "      <td>0.978576</td>\n",
       "      <td>0.889212</td>\n",
       "      <td>0.272643</td>\n",
       "    </tr>\n",
       "  </tbody>\n",
       "</table>\n",
       "<p>93 rows × 5 columns</p>\n",
       "</div>"
      ],
      "text/plain": [
       "            A         B         C         D         E\n",
       "10   0.069941  0.028621  0.153320  0.319281  0.478298\n",
       "13   0.041209  0.229171  0.359312  0.361204  0.540582\n",
       "14   0.280075  0.952507  0.977163  0.937404  0.103720\n",
       "15   0.013815  0.531852  0.241433  0.303093  0.904927\n",
       "17   0.245447  0.322934  0.502634  0.968776  0.896276\n",
       "..        ...       ...       ...       ...       ...\n",
       "315  0.165512  0.333142  0.231138  0.613065  0.091939\n",
       "322  0.214761  0.936437  0.950671  0.310580  0.712946\n",
       "323  0.006906  0.203342  0.296265  0.369739  0.421447\n",
       "325  0.263741  0.573994  0.825866  0.509636  0.582812\n",
       "327  0.177145  0.746975  0.978576  0.889212  0.272643\n",
       "\n",
       "[93 rows x 5 columns]"
      ]
     },
     "execution_count": 44,
     "metadata": {},
     "output_type": "execute_result"
    }
   ],
   "source": [
    "newdf.loc[(newdf['A']<0.3) & (newdf['C']>0.1)]"
   ]
  },
  {
   "cell_type": "code",
   "execution_count": 45,
   "id": "f5b7517a-3dd1-486a-a36b-41f1f91cafb8",
   "metadata": {},
   "outputs": [
    {
     "data": {
      "text/plain": [
       "0.4969714145543338"
      ]
     },
     "execution_count": 45,
     "metadata": {},
     "output_type": "execute_result"
    }
   ],
   "source": [
    "newdf.iloc[0,4] # iloc is used to show to conyent of the specific cell (if you don't want to use names)"
   ]
  },
  {
   "cell_type": "code",
   "execution_count": 46,
   "id": "c478d5ec-15d6-4439-b98f-10f2482b7721",
   "metadata": {},
   "outputs": [
    {
     "data": {
      "text/html": [
       "<div>\n",
       "<style scoped>\n",
       "    .dataframe tbody tr th:only-of-type {\n",
       "        vertical-align: middle;\n",
       "    }\n",
       "\n",
       "    .dataframe tbody tr th {\n",
       "        vertical-align: top;\n",
       "    }\n",
       "\n",
       "    .dataframe thead th {\n",
       "        text-align: right;\n",
       "    }\n",
       "</style>\n",
       "<table border=\"1\" class=\"dataframe\">\n",
       "  <thead>\n",
       "    <tr style=\"text-align: right;\">\n",
       "      <th></th>\n",
       "      <th>B</th>\n",
       "      <th>C</th>\n",
       "    </tr>\n",
       "  </thead>\n",
       "  <tbody>\n",
       "    <tr>\n",
       "      <th>0</th>\n",
       "      <td>0.923708</td>\n",
       "      <td>0.259200</td>\n",
       "    </tr>\n",
       "    <tr>\n",
       "      <th>5</th>\n",
       "      <td>0.594387</td>\n",
       "      <td>0.882427</td>\n",
       "    </tr>\n",
       "  </tbody>\n",
       "</table>\n",
       "</div>"
      ],
      "text/plain": [
       "          B         C\n",
       "0  0.923708  0.259200\n",
       "5  0.594387  0.882427"
      ]
     },
     "execution_count": 46,
     "metadata": {},
     "output_type": "execute_result"
    }
   ],
   "source": [
    "newdf.iloc[[0,5], [1,2]]"
   ]
  },
  {
   "cell_type": "code",
   "execution_count": 47,
   "id": "4bdc7fba-282a-4c62-b75a-f5fe3a6bff30",
   "metadata": {},
   "outputs": [
    {
     "data": {
      "text/html": [
       "<div>\n",
       "<style scoped>\n",
       "    .dataframe tbody tr th:only-of-type {\n",
       "        vertical-align: middle;\n",
       "    }\n",
       "\n",
       "    .dataframe tbody tr th {\n",
       "        vertical-align: top;\n",
       "    }\n",
       "\n",
       "    .dataframe thead th {\n",
       "        text-align: right;\n",
       "    }\n",
       "</style>\n",
       "<table border=\"1\" class=\"dataframe\">\n",
       "  <thead>\n",
       "    <tr style=\"text-align: right;\">\n",
       "      <th></th>\n",
       "      <th>A</th>\n",
       "      <th>B</th>\n",
       "      <th>C</th>\n",
       "      <th>D</th>\n",
       "      <th>E</th>\n",
       "    </tr>\n",
       "  </thead>\n",
       "  <tbody>\n",
       "    <tr>\n",
       "      <th>0</th>\n",
       "      <td>65445.000000</td>\n",
       "      <td>0.923708</td>\n",
       "      <td>0.259200</td>\n",
       "      <td>0.524982</td>\n",
       "      <td>0.496971</td>\n",
       "    </tr>\n",
       "    <tr>\n",
       "      <th>1</th>\n",
       "      <td>0.849028</td>\n",
       "      <td>0.769802</td>\n",
       "      <td>0.883670</td>\n",
       "      <td>0.323103</td>\n",
       "      <td>0.939383</td>\n",
       "    </tr>\n",
       "    <tr>\n",
       "      <th>2</th>\n",
       "      <td>0.950162</td>\n",
       "      <td>0.444841</td>\n",
       "      <td>0.076574</td>\n",
       "      <td>0.776139</td>\n",
       "      <td>0.074358</td>\n",
       "    </tr>\n",
       "    <tr>\n",
       "      <th>3</th>\n",
       "      <td>0.946049</td>\n",
       "      <td>0.314503</td>\n",
       "      <td>0.379802</td>\n",
       "      <td>0.442014</td>\n",
       "      <td>0.758148</td>\n",
       "    </tr>\n",
       "    <tr>\n",
       "      <th>4</th>\n",
       "      <td>0.620420</td>\n",
       "      <td>0.738981</td>\n",
       "      <td>0.494159</td>\n",
       "      <td>0.403256</td>\n",
       "      <td>0.241247</td>\n",
       "    </tr>\n",
       "  </tbody>\n",
       "</table>\n",
       "</div>"
      ],
      "text/plain": [
       "              A         B         C         D         E\n",
       "0  65445.000000  0.923708  0.259200  0.524982  0.496971\n",
       "1      0.849028  0.769802  0.883670  0.323103  0.939383\n",
       "2      0.950162  0.444841  0.076574  0.776139  0.074358\n",
       "3      0.946049  0.314503  0.379802  0.442014  0.758148\n",
       "4      0.620420  0.738981  0.494159  0.403256  0.241247"
      ]
     },
     "execution_count": 47,
     "metadata": {},
     "output_type": "execute_result"
    }
   ],
   "source": [
    "newdf.head()"
   ]
  },
  {
   "cell_type": "code",
   "execution_count": 48,
   "id": "91ea6eb5-6b18-4b58-8ab6-b139ff6de26a",
   "metadata": {},
   "outputs": [],
   "source": [
    "# newdf.drop(['A', 'D'], axis=1, inplace=True) # inplace is used to update the data base with current chages"
   ]
  },
  {
   "cell_type": "code",
   "execution_count": 49,
   "id": "43a3e756-2b25-495f-b275-628b906ba0e2",
   "metadata": {},
   "outputs": [
    {
     "data": {
      "text/html": [
       "<div>\n",
       "<style scoped>\n",
       "    .dataframe tbody tr th:only-of-type {\n",
       "        vertical-align: middle;\n",
       "    }\n",
       "\n",
       "    .dataframe tbody tr th {\n",
       "        vertical-align: top;\n",
       "    }\n",
       "\n",
       "    .dataframe thead th {\n",
       "        text-align: right;\n",
       "    }\n",
       "</style>\n",
       "<table border=\"1\" class=\"dataframe\">\n",
       "  <thead>\n",
       "    <tr style=\"text-align: right;\">\n",
       "      <th></th>\n",
       "      <th>A</th>\n",
       "      <th>B</th>\n",
       "      <th>C</th>\n",
       "      <th>D</th>\n",
       "      <th>E</th>\n",
       "    </tr>\n",
       "  </thead>\n",
       "  <tbody>\n",
       "    <tr>\n",
       "      <th>0</th>\n",
       "      <td>65445.000000</td>\n",
       "      <td>0.923708</td>\n",
       "      <td>0.259200</td>\n",
       "      <td>0.524982</td>\n",
       "      <td>0.496971</td>\n",
       "    </tr>\n",
       "    <tr>\n",
       "      <th>1</th>\n",
       "      <td>0.849028</td>\n",
       "      <td>0.769802</td>\n",
       "      <td>0.883670</td>\n",
       "      <td>0.323103</td>\n",
       "      <td>0.939383</td>\n",
       "    </tr>\n",
       "    <tr>\n",
       "      <th>2</th>\n",
       "      <td>0.950162</td>\n",
       "      <td>0.444841</td>\n",
       "      <td>0.076574</td>\n",
       "      <td>0.776139</td>\n",
       "      <td>0.074358</td>\n",
       "    </tr>\n",
       "    <tr>\n",
       "      <th>3</th>\n",
       "      <td>0.946049</td>\n",
       "      <td>0.314503</td>\n",
       "      <td>0.379802</td>\n",
       "      <td>0.442014</td>\n",
       "      <td>0.758148</td>\n",
       "    </tr>\n",
       "    <tr>\n",
       "      <th>4</th>\n",
       "      <td>0.620420</td>\n",
       "      <td>0.738981</td>\n",
       "      <td>0.494159</td>\n",
       "      <td>0.403256</td>\n",
       "      <td>0.241247</td>\n",
       "    </tr>\n",
       "    <tr>\n",
       "      <th>...</th>\n",
       "      <td>...</td>\n",
       "      <td>...</td>\n",
       "      <td>...</td>\n",
       "      <td>...</td>\n",
       "      <td>...</td>\n",
       "    </tr>\n",
       "    <tr>\n",
       "      <th>329</th>\n",
       "      <td>0.427329</td>\n",
       "      <td>0.900832</td>\n",
       "      <td>0.340793</td>\n",
       "      <td>0.206068</td>\n",
       "      <td>0.764197</td>\n",
       "    </tr>\n",
       "    <tr>\n",
       "      <th>330</th>\n",
       "      <td>0.555079</td>\n",
       "      <td>0.223160</td>\n",
       "      <td>0.824479</td>\n",
       "      <td>0.551342</td>\n",
       "      <td>0.129768</td>\n",
       "    </tr>\n",
       "    <tr>\n",
       "      <th>331</th>\n",
       "      <td>0.852446</td>\n",
       "      <td>0.065881</td>\n",
       "      <td>0.688326</td>\n",
       "      <td>0.733887</td>\n",
       "      <td>0.085055</td>\n",
       "    </tr>\n",
       "    <tr>\n",
       "      <th>332</th>\n",
       "      <td>0.514137</td>\n",
       "      <td>0.952084</td>\n",
       "      <td>0.587944</td>\n",
       "      <td>0.170654</td>\n",
       "      <td>0.373797</td>\n",
       "    </tr>\n",
       "    <tr>\n",
       "      <th>333</th>\n",
       "      <td>0.949228</td>\n",
       "      <td>0.929349</td>\n",
       "      <td>0.601018</td>\n",
       "      <td>0.927587</td>\n",
       "      <td>0.924531</td>\n",
       "    </tr>\n",
       "  </tbody>\n",
       "</table>\n",
       "<p>334 rows × 5 columns</p>\n",
       "</div>"
      ],
      "text/plain": [
       "                A         B         C         D         E\n",
       "0    65445.000000  0.923708  0.259200  0.524982  0.496971\n",
       "1        0.849028  0.769802  0.883670  0.323103  0.939383\n",
       "2        0.950162  0.444841  0.076574  0.776139  0.074358\n",
       "3        0.946049  0.314503  0.379802  0.442014  0.758148\n",
       "4        0.620420  0.738981  0.494159  0.403256  0.241247\n",
       "..            ...       ...       ...       ...       ...\n",
       "329      0.427329  0.900832  0.340793  0.206068  0.764197\n",
       "330      0.555079  0.223160  0.824479  0.551342  0.129768\n",
       "331      0.852446  0.065881  0.688326  0.733887  0.085055\n",
       "332      0.514137  0.952084  0.587944  0.170654  0.373797\n",
       "333      0.949228  0.929349  0.601018  0.927587  0.924531\n",
       "\n",
       "[334 rows x 5 columns]"
      ]
     },
     "execution_count": 49,
     "metadata": {},
     "output_type": "execute_result"
    }
   ],
   "source": [
    "newdf"
   ]
  },
  {
   "cell_type": "code",
   "execution_count": 50,
   "id": "608b5fae-57a8-4874-a96a-594e3f67901f",
   "metadata": {},
   "outputs": [],
   "source": [
    "newdf.reset_index(drop=True,inplace= True)"
   ]
  },
  {
   "cell_type": "code",
   "execution_count": 51,
   "id": "8328eaa4-5c20-4ce1-b9f4-cbbd104e2740",
   "metadata": {},
   "outputs": [
    {
     "data": {
      "text/html": [
       "<div>\n",
       "<style scoped>\n",
       "    .dataframe tbody tr th:only-of-type {\n",
       "        vertical-align: middle;\n",
       "    }\n",
       "\n",
       "    .dataframe tbody tr th {\n",
       "        vertical-align: top;\n",
       "    }\n",
       "\n",
       "    .dataframe thead th {\n",
       "        text-align: right;\n",
       "    }\n",
       "</style>\n",
       "<table border=\"1\" class=\"dataframe\">\n",
       "  <thead>\n",
       "    <tr style=\"text-align: right;\">\n",
       "      <th></th>\n",
       "      <th>A</th>\n",
       "      <th>B</th>\n",
       "      <th>C</th>\n",
       "      <th>D</th>\n",
       "      <th>E</th>\n",
       "    </tr>\n",
       "  </thead>\n",
       "  <tbody>\n",
       "    <tr>\n",
       "      <th>0</th>\n",
       "      <td>65445.000000</td>\n",
       "      <td>0.923708</td>\n",
       "      <td>0.259200</td>\n",
       "      <td>0.524982</td>\n",
       "      <td>0.496971</td>\n",
       "    </tr>\n",
       "    <tr>\n",
       "      <th>1</th>\n",
       "      <td>0.849028</td>\n",
       "      <td>0.769802</td>\n",
       "      <td>0.883670</td>\n",
       "      <td>0.323103</td>\n",
       "      <td>0.939383</td>\n",
       "    </tr>\n",
       "    <tr>\n",
       "      <th>2</th>\n",
       "      <td>0.950162</td>\n",
       "      <td>0.444841</td>\n",
       "      <td>0.076574</td>\n",
       "      <td>0.776139</td>\n",
       "      <td>0.074358</td>\n",
       "    </tr>\n",
       "    <tr>\n",
       "      <th>3</th>\n",
       "      <td>0.946049</td>\n",
       "      <td>0.314503</td>\n",
       "      <td>0.379802</td>\n",
       "      <td>0.442014</td>\n",
       "      <td>0.758148</td>\n",
       "    </tr>\n",
       "    <tr>\n",
       "      <th>4</th>\n",
       "      <td>0.620420</td>\n",
       "      <td>0.738981</td>\n",
       "      <td>0.494159</td>\n",
       "      <td>0.403256</td>\n",
       "      <td>0.241247</td>\n",
       "    </tr>\n",
       "  </tbody>\n",
       "</table>\n",
       "</div>"
      ],
      "text/plain": [
       "              A         B         C         D         E\n",
       "0  65445.000000  0.923708  0.259200  0.524982  0.496971\n",
       "1      0.849028  0.769802  0.883670  0.323103  0.939383\n",
       "2      0.950162  0.444841  0.076574  0.776139  0.074358\n",
       "3      0.946049  0.314503  0.379802  0.442014  0.758148\n",
       "4      0.620420  0.738981  0.494159  0.403256  0.241247"
      ]
     },
     "execution_count": 51,
     "metadata": {},
     "output_type": "execute_result"
    }
   ],
   "source": [
    "newdf.head()"
   ]
  },
  {
   "cell_type": "code",
   "execution_count": 52,
   "id": "97bfedf5-6a6a-40ee-83fc-c7354e95edf5",
   "metadata": {},
   "outputs": [],
   "source": [
    "newdf.loc[:, ['B']] = 56"
   ]
  },
  {
   "cell_type": "code",
   "execution_count": 53,
   "id": "68d0d9b2-b6b5-4889-b1f7-031b1896d97e",
   "metadata": {},
   "outputs": [
    {
     "data": {
      "text/html": [
       "<div>\n",
       "<style scoped>\n",
       "    .dataframe tbody tr th:only-of-type {\n",
       "        vertical-align: middle;\n",
       "    }\n",
       "\n",
       "    .dataframe tbody tr th {\n",
       "        vertical-align: top;\n",
       "    }\n",
       "\n",
       "    .dataframe thead th {\n",
       "        text-align: right;\n",
       "    }\n",
       "</style>\n",
       "<table border=\"1\" class=\"dataframe\">\n",
       "  <thead>\n",
       "    <tr style=\"text-align: right;\">\n",
       "      <th></th>\n",
       "      <th>A</th>\n",
       "      <th>B</th>\n",
       "      <th>C</th>\n",
       "      <th>D</th>\n",
       "      <th>E</th>\n",
       "    </tr>\n",
       "  </thead>\n",
       "  <tbody>\n",
       "    <tr>\n",
       "      <th>0</th>\n",
       "      <td>65445.000000</td>\n",
       "      <td>56.0</td>\n",
       "      <td>0.259200</td>\n",
       "      <td>0.524982</td>\n",
       "      <td>0.496971</td>\n",
       "    </tr>\n",
       "    <tr>\n",
       "      <th>1</th>\n",
       "      <td>0.849028</td>\n",
       "      <td>56.0</td>\n",
       "      <td>0.883670</td>\n",
       "      <td>0.323103</td>\n",
       "      <td>0.939383</td>\n",
       "    </tr>\n",
       "    <tr>\n",
       "      <th>2</th>\n",
       "      <td>0.950162</td>\n",
       "      <td>56.0</td>\n",
       "      <td>0.076574</td>\n",
       "      <td>0.776139</td>\n",
       "      <td>0.074358</td>\n",
       "    </tr>\n",
       "    <tr>\n",
       "      <th>3</th>\n",
       "      <td>0.946049</td>\n",
       "      <td>56.0</td>\n",
       "      <td>0.379802</td>\n",
       "      <td>0.442014</td>\n",
       "      <td>0.758148</td>\n",
       "    </tr>\n",
       "    <tr>\n",
       "      <th>4</th>\n",
       "      <td>0.620420</td>\n",
       "      <td>56.0</td>\n",
       "      <td>0.494159</td>\n",
       "      <td>0.403256</td>\n",
       "      <td>0.241247</td>\n",
       "    </tr>\n",
       "    <tr>\n",
       "      <th>...</th>\n",
       "      <td>...</td>\n",
       "      <td>...</td>\n",
       "      <td>...</td>\n",
       "      <td>...</td>\n",
       "      <td>...</td>\n",
       "    </tr>\n",
       "    <tr>\n",
       "      <th>329</th>\n",
       "      <td>0.427329</td>\n",
       "      <td>56.0</td>\n",
       "      <td>0.340793</td>\n",
       "      <td>0.206068</td>\n",
       "      <td>0.764197</td>\n",
       "    </tr>\n",
       "    <tr>\n",
       "      <th>330</th>\n",
       "      <td>0.555079</td>\n",
       "      <td>56.0</td>\n",
       "      <td>0.824479</td>\n",
       "      <td>0.551342</td>\n",
       "      <td>0.129768</td>\n",
       "    </tr>\n",
       "    <tr>\n",
       "      <th>331</th>\n",
       "      <td>0.852446</td>\n",
       "      <td>56.0</td>\n",
       "      <td>0.688326</td>\n",
       "      <td>0.733887</td>\n",
       "      <td>0.085055</td>\n",
       "    </tr>\n",
       "    <tr>\n",
       "      <th>332</th>\n",
       "      <td>0.514137</td>\n",
       "      <td>56.0</td>\n",
       "      <td>0.587944</td>\n",
       "      <td>0.170654</td>\n",
       "      <td>0.373797</td>\n",
       "    </tr>\n",
       "    <tr>\n",
       "      <th>333</th>\n",
       "      <td>0.949228</td>\n",
       "      <td>56.0</td>\n",
       "      <td>0.601018</td>\n",
       "      <td>0.927587</td>\n",
       "      <td>0.924531</td>\n",
       "    </tr>\n",
       "  </tbody>\n",
       "</table>\n",
       "<p>334 rows × 5 columns</p>\n",
       "</div>"
      ],
      "text/plain": [
       "                A     B         C         D         E\n",
       "0    65445.000000  56.0  0.259200  0.524982  0.496971\n",
       "1        0.849028  56.0  0.883670  0.323103  0.939383\n",
       "2        0.950162  56.0  0.076574  0.776139  0.074358\n",
       "3        0.946049  56.0  0.379802  0.442014  0.758148\n",
       "4        0.620420  56.0  0.494159  0.403256  0.241247\n",
       "..            ...   ...       ...       ...       ...\n",
       "329      0.427329  56.0  0.340793  0.206068  0.764197\n",
       "330      0.555079  56.0  0.824479  0.551342  0.129768\n",
       "331      0.852446  56.0  0.688326  0.733887  0.085055\n",
       "332      0.514137  56.0  0.587944  0.170654  0.373797\n",
       "333      0.949228  56.0  0.601018  0.927587  0.924531\n",
       "\n",
       "[334 rows x 5 columns]"
      ]
     },
     "execution_count": 53,
     "metadata": {},
     "output_type": "execute_result"
    }
   ],
   "source": [
    "newdf"
   ]
  },
  {
   "cell_type": "code",
   "execution_count": 54,
   "id": "ec94eec6-6e10-4fde-97a6-79a6c38f6755",
   "metadata": {},
   "outputs": [
    {
     "data": {
      "text/html": [
       "<div>\n",
       "<style scoped>\n",
       "    .dataframe tbody tr th:only-of-type {\n",
       "        vertical-align: middle;\n",
       "    }\n",
       "\n",
       "    .dataframe tbody tr th {\n",
       "        vertical-align: top;\n",
       "    }\n",
       "\n",
       "    .dataframe thead th {\n",
       "        text-align: right;\n",
       "    }\n",
       "</style>\n",
       "<table border=\"1\" class=\"dataframe\">\n",
       "  <thead>\n",
       "    <tr style=\"text-align: right;\">\n",
       "      <th></th>\n",
       "      <th>A</th>\n",
       "      <th>B</th>\n",
       "      <th>C</th>\n",
       "      <th>D</th>\n",
       "      <th>E</th>\n",
       "    </tr>\n",
       "  </thead>\n",
       "  <tbody>\n",
       "    <tr>\n",
       "      <th>0</th>\n",
       "      <td>65445.000000</td>\n",
       "      <td>56.0</td>\n",
       "      <td>0.259200</td>\n",
       "      <td>0.524982</td>\n",
       "      <td>0.496971</td>\n",
       "    </tr>\n",
       "    <tr>\n",
       "      <th>1</th>\n",
       "      <td>0.849028</td>\n",
       "      <td>56.0</td>\n",
       "      <td>0.883670</td>\n",
       "      <td>0.323103</td>\n",
       "      <td>0.939383</td>\n",
       "    </tr>\n",
       "    <tr>\n",
       "      <th>2</th>\n",
       "      <td>0.950162</td>\n",
       "      <td>56.0</td>\n",
       "      <td>0.076574</td>\n",
       "      <td>0.776139</td>\n",
       "      <td>0.074358</td>\n",
       "    </tr>\n",
       "    <tr>\n",
       "      <th>3</th>\n",
       "      <td>0.946049</td>\n",
       "      <td>56.0</td>\n",
       "      <td>0.379802</td>\n",
       "      <td>0.442014</td>\n",
       "      <td>0.758148</td>\n",
       "    </tr>\n",
       "    <tr>\n",
       "      <th>4</th>\n",
       "      <td>0.620420</td>\n",
       "      <td>56.0</td>\n",
       "      <td>0.494159</td>\n",
       "      <td>0.403256</td>\n",
       "      <td>0.241247</td>\n",
       "    </tr>\n",
       "  </tbody>\n",
       "</table>\n",
       "</div>"
      ],
      "text/plain": [
       "              A     B         C         D         E\n",
       "0  65445.000000  56.0  0.259200  0.524982  0.496971\n",
       "1      0.849028  56.0  0.883670  0.323103  0.939383\n",
       "2      0.950162  56.0  0.076574  0.776139  0.074358\n",
       "3      0.946049  56.0  0.379802  0.442014  0.758148\n",
       "4      0.620420  56.0  0.494159  0.403256  0.241247"
      ]
     },
     "execution_count": 54,
     "metadata": {},
     "output_type": "execute_result"
    }
   ],
   "source": [
    "newdf.head()"
   ]
  },
  {
   "cell_type": "markdown",
   "id": "b1bef54a-2560-4876-888d-aa94f35b52e5",
   "metadata": {},
   "source": [
    "## Exercise:"
   ]
  },
  {
   "cell_type": "code",
   "execution_count": 58,
   "id": "f64208d0-9403-4736-afab-116df6215435",
   "metadata": {},
   "outputs": [],
   "source": [
    "df = pd.DataFrame({\"A\" : [1, 2, 3],\n",
    "                   \"B\": [3,2, 1]})"
   ]
  },
  {
   "cell_type": "code",
   "execution_count": 59,
   "id": "a4705063-4aea-45a0-961b-9adb5a7c8838",
   "metadata": {},
   "outputs": [
    {
     "data": {
      "text/html": [
       "<div>\n",
       "<style scoped>\n",
       "    .dataframe tbody tr th:only-of-type {\n",
       "        vertical-align: middle;\n",
       "    }\n",
       "\n",
       "    .dataframe tbody tr th {\n",
       "        vertical-align: top;\n",
       "    }\n",
       "\n",
       "    .dataframe thead th {\n",
       "        text-align: right;\n",
       "    }\n",
       "</style>\n",
       "<table border=\"1\" class=\"dataframe\">\n",
       "  <thead>\n",
       "    <tr style=\"text-align: right;\">\n",
       "      <th></th>\n",
       "      <th>A</th>\n",
       "      <th>B</th>\n",
       "    </tr>\n",
       "  </thead>\n",
       "  <tbody>\n",
       "    <tr>\n",
       "      <th>0</th>\n",
       "      <td>1</td>\n",
       "      <td>3</td>\n",
       "    </tr>\n",
       "    <tr>\n",
       "      <th>1</th>\n",
       "      <td>2</td>\n",
       "      <td>2</td>\n",
       "    </tr>\n",
       "    <tr>\n",
       "      <th>2</th>\n",
       "      <td>3</td>\n",
       "      <td>1</td>\n",
       "    </tr>\n",
       "  </tbody>\n",
       "</table>\n",
       "</div>"
      ],
      "text/plain": [
       "   A  B\n",
       "0  1  3\n",
       "1  2  2\n",
       "2  3  1"
      ]
     },
     "execution_count": 59,
     "metadata": {},
     "output_type": "execute_result"
    }
   ],
   "source": [
    "df.head()"
   ]
  },
  {
   "cell_type": "code",
   "execution_count": 60,
   "id": "96873d3d-ed85-49e8-9141-9138e4715c86",
   "metadata": {},
   "outputs": [
    {
     "data": {
      "text/html": [
       "<div>\n",
       "<style scoped>\n",
       "    .dataframe tbody tr th:only-of-type {\n",
       "        vertical-align: middle;\n",
       "    }\n",
       "\n",
       "    .dataframe tbody tr th {\n",
       "        vertical-align: top;\n",
       "    }\n",
       "\n",
       "    .dataframe thead th {\n",
       "        text-align: right;\n",
       "    }\n",
       "</style>\n",
       "<table border=\"1\" class=\"dataframe\">\n",
       "  <thead>\n",
       "    <tr style=\"text-align: right;\">\n",
       "      <th></th>\n",
       "      <th>A</th>\n",
       "      <th>B</th>\n",
       "    </tr>\n",
       "  </thead>\n",
       "  <tbody>\n",
       "    <tr>\n",
       "      <th>count</th>\n",
       "      <td>3.0</td>\n",
       "      <td>3.0</td>\n",
       "    </tr>\n",
       "    <tr>\n",
       "      <th>mean</th>\n",
       "      <td>2.0</td>\n",
       "      <td>2.0</td>\n",
       "    </tr>\n",
       "    <tr>\n",
       "      <th>std</th>\n",
       "      <td>1.0</td>\n",
       "      <td>1.0</td>\n",
       "    </tr>\n",
       "    <tr>\n",
       "      <th>min</th>\n",
       "      <td>1.0</td>\n",
       "      <td>1.0</td>\n",
       "    </tr>\n",
       "    <tr>\n",
       "      <th>25%</th>\n",
       "      <td>1.5</td>\n",
       "      <td>1.5</td>\n",
       "    </tr>\n",
       "    <tr>\n",
       "      <th>50%</th>\n",
       "      <td>2.0</td>\n",
       "      <td>2.0</td>\n",
       "    </tr>\n",
       "    <tr>\n",
       "      <th>75%</th>\n",
       "      <td>2.5</td>\n",
       "      <td>2.5</td>\n",
       "    </tr>\n",
       "    <tr>\n",
       "      <th>max</th>\n",
       "      <td>3.0</td>\n",
       "      <td>3.0</td>\n",
       "    </tr>\n",
       "  </tbody>\n",
       "</table>\n",
       "</div>"
      ],
      "text/plain": [
       "         A    B\n",
       "count  3.0  3.0\n",
       "mean   2.0  2.0\n",
       "std    1.0  1.0\n",
       "min    1.0  1.0\n",
       "25%    1.5  1.5\n",
       "50%    2.0  2.0\n",
       "75%    2.5  2.5\n",
       "max    3.0  3.0"
      ]
     },
     "execution_count": 60,
     "metadata": {},
     "output_type": "execute_result"
    }
   ],
   "source": [
    "df.describe()"
   ]
  },
  {
   "cell_type": "code",
   "execution_count": 61,
   "id": "90c3ace7-8559-4021-9a66-22776ef375c6",
   "metadata": {},
   "outputs": [
    {
     "name": "stdout",
     "output_type": "stream",
     "text": [
      "<class 'pandas.core.frame.DataFrame'>\n",
      "RangeIndex: 3 entries, 0 to 2\n",
      "Data columns (total 2 columns):\n",
      " #   Column  Non-Null Count  Dtype\n",
      "---  ------  --------------  -----\n",
      " 0   A       3 non-null      int64\n",
      " 1   B       3 non-null      int64\n",
      "dtypes: int64(2)\n",
      "memory usage: 180.0 bytes\n"
     ]
    }
   ],
   "source": [
    "df.info()"
   ]
  },
  {
   "cell_type": "code",
   "execution_count": 62,
   "id": "c866d137-5e39-4fc6-9d61-b8b6ab191dad",
   "metadata": {},
   "outputs": [
    {
     "data": {
      "text/plain": [
       "A    2.0\n",
       "B    2.0\n",
       "dtype: float64"
      ]
     },
     "execution_count": 62,
     "metadata": {},
     "output_type": "execute_result"
    }
   ],
   "source": [
    "df.mean()"
   ]
  },
  {
   "cell_type": "code",
   "execution_count": 64,
   "id": "7f774002-e1b9-4aaa-b224-1d5bbf2dbbd5",
   "metadata": {},
   "outputs": [
    {
     "data": {
      "text/html": [
       "<div>\n",
       "<style scoped>\n",
       "    .dataframe tbody tr th:only-of-type {\n",
       "        vertical-align: middle;\n",
       "    }\n",
       "\n",
       "    .dataframe tbody tr th {\n",
       "        vertical-align: top;\n",
       "    }\n",
       "\n",
       "    .dataframe thead th {\n",
       "        text-align: right;\n",
       "    }\n",
       "</style>\n",
       "<table border=\"1\" class=\"dataframe\">\n",
       "  <thead>\n",
       "    <tr style=\"text-align: right;\">\n",
       "      <th></th>\n",
       "      <th>A</th>\n",
       "      <th>B</th>\n",
       "    </tr>\n",
       "  </thead>\n",
       "  <tbody>\n",
       "    <tr>\n",
       "      <th>A</th>\n",
       "      <td>1.0</td>\n",
       "      <td>-1.0</td>\n",
       "    </tr>\n",
       "    <tr>\n",
       "      <th>B</th>\n",
       "      <td>-1.0</td>\n",
       "      <td>1.0</td>\n",
       "    </tr>\n",
       "  </tbody>\n",
       "</table>\n",
       "</div>"
      ],
      "text/plain": [
       "     A    B\n",
       "A  1.0 -1.0\n",
       "B -1.0  1.0"
      ]
     },
     "execution_count": 64,
     "metadata": {},
     "output_type": "execute_result"
    }
   ],
   "source": [
    "df.corr()"
   ]
  },
  {
   "cell_type": "code",
   "execution_count": 65,
   "id": "49962c9d-d2a8-4eb2-a121-d03ac7eeece9",
   "metadata": {},
   "outputs": [
    {
     "data": {
      "text/plain": [
       "A    3\n",
       "B    3\n",
       "dtype: int64"
      ]
     },
     "execution_count": 65,
     "metadata": {},
     "output_type": "execute_result"
    }
   ],
   "source": [
    "df.count()"
   ]
  },
  {
   "cell_type": "code",
   "execution_count": 66,
   "id": "4cb312be-ef2c-40c6-9913-07f6d9605cc1",
   "metadata": {},
   "outputs": [
    {
     "data": {
      "text/plain": [
       "A    3\n",
       "B    3\n",
       "dtype: int64"
      ]
     },
     "execution_count": 66,
     "metadata": {},
     "output_type": "execute_result"
    }
   ],
   "source": [
    "df.max()"
   ]
  },
  {
   "cell_type": "code",
   "execution_count": 68,
   "id": "10b01af0-b83a-4cf9-b6b1-b02141fca2a0",
   "metadata": {},
   "outputs": [
    {
     "data": {
      "text/plain": [
       "A    1\n",
       "B    1\n",
       "dtype: int64"
      ]
     },
     "execution_count": 68,
     "metadata": {},
     "output_type": "execute_result"
    }
   ],
   "source": [
    "df.min()"
   ]
  },
  {
   "cell_type": "code",
   "execution_count": 69,
   "id": "07e489e9-4111-4942-bdfe-7bfe3134fc85",
   "metadata": {},
   "outputs": [
    {
     "data": {
      "text/plain": [
       "A    2.0\n",
       "B    2.0\n",
       "dtype: float64"
      ]
     },
     "execution_count": 69,
     "metadata": {},
     "output_type": "execute_result"
    }
   ],
   "source": [
    "df.median()"
   ]
  },
  {
   "cell_type": "code",
   "execution_count": 70,
   "id": "23a456e7-0dc3-4da6-8c19-948a46235879",
   "metadata": {},
   "outputs": [
    {
     "data": {
      "text/plain": [
       "A    1.0\n",
       "B    1.0\n",
       "dtype: float64"
      ]
     },
     "execution_count": 70,
     "metadata": {},
     "output_type": "execute_result"
    }
   ],
   "source": [
    "df.std()"
   ]
  },
  {
   "cell_type": "code",
   "execution_count": null,
   "id": "61c886e5-f78c-46e6-ad79-839f19d608bb",
   "metadata": {},
   "outputs": [],
   "source": []
  }
 ],
 "metadata": {
  "kernelspec": {
   "display_name": "Python 3 (ipykernel)",
   "language": "python",
   "name": "python3"
  },
  "language_info": {
   "codemirror_mode": {
    "name": "ipython",
    "version": 3
   },
   "file_extension": ".py",
   "mimetype": "text/x-python",
   "name": "python",
   "nbconvert_exporter": "python",
   "pygments_lexer": "ipython3",
   "version": "3.11.6"
  }
 },
 "nbformat": 4,
 "nbformat_minor": 5
}
