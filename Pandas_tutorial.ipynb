{
 "cells": [
  {
   "cell_type": "code",
   "execution_count": 1,
   "id": "6c1fc578-e2ca-4e81-840c-6da7b12a2e1d",
   "metadata": {},
   "outputs": [],
   "source": [
    "import numpy as np\n",
    "import pandas as pd"
   ]
  },
  {
   "cell_type": "code",
   "execution_count": 2,
   "id": "1fef1f69-9384-42f0-9845-3e2a3c4be921",
   "metadata": {},
   "outputs": [],
   "source": [
    "dict1 = {\n",
    "    \"name\":['harry', 'rohan', 'skillf', 'subha'],\n",
    "    \"mark\":[92, 34, 24, 17],\n",
    "    \"city\":['rampur', 'kolkata', 'barelly','balasore']\n",
    "}"
   ]
  },
  {
   "cell_type": "markdown",
   "id": "91ad1aba-b52b-44ef-b19a-af096e3c198e",
   "metadata": {},
   "source": [
    "## Convert the given dictionary in to dataframe"
   ]
  },
  {
   "cell_type": "code",
   "execution_count": 3,
   "id": "32d3b588-9709-450f-b72a-a7455cd459b6",
   "metadata": {},
   "outputs": [],
   "source": [
    "df = pd.DataFrame(dict1)"
   ]
  },
  {
   "cell_type": "code",
   "execution_count": 4,
   "id": "f02a9366-2a60-4761-b5c7-10122020cb92",
   "metadata": {},
   "outputs": [
    {
     "data": {
      "text/html": [
       "<div>\n",
       "<style scoped>\n",
       "    .dataframe tbody tr th:only-of-type {\n",
       "        vertical-align: middle;\n",
       "    }\n",
       "\n",
       "    .dataframe tbody tr th {\n",
       "        vertical-align: top;\n",
       "    }\n",
       "\n",
       "    .dataframe thead th {\n",
       "        text-align: right;\n",
       "    }\n",
       "</style>\n",
       "<table border=\"1\" class=\"dataframe\">\n",
       "  <thead>\n",
       "    <tr style=\"text-align: right;\">\n",
       "      <th></th>\n",
       "      <th>name</th>\n",
       "      <th>mark</th>\n",
       "      <th>city</th>\n",
       "    </tr>\n",
       "  </thead>\n",
       "  <tbody>\n",
       "    <tr>\n",
       "      <th>0</th>\n",
       "      <td>harry</td>\n",
       "      <td>92</td>\n",
       "      <td>rampur</td>\n",
       "    </tr>\n",
       "    <tr>\n",
       "      <th>1</th>\n",
       "      <td>rohan</td>\n",
       "      <td>34</td>\n",
       "      <td>kolkata</td>\n",
       "    </tr>\n",
       "    <tr>\n",
       "      <th>2</th>\n",
       "      <td>skillf</td>\n",
       "      <td>24</td>\n",
       "      <td>barelly</td>\n",
       "    </tr>\n",
       "    <tr>\n",
       "      <th>3</th>\n",
       "      <td>subha</td>\n",
       "      <td>17</td>\n",
       "      <td>balasore</td>\n",
       "    </tr>\n",
       "  </tbody>\n",
       "</table>\n",
       "</div>"
      ],
      "text/plain": [
       "     name  mark      city\n",
       "0   harry    92    rampur\n",
       "1   rohan    34   kolkata\n",
       "2  skillf    24   barelly\n",
       "3   subha    17  balasore"
      ]
     },
     "execution_count": 4,
     "metadata": {},
     "output_type": "execute_result"
    }
   ],
   "source": [
    "df"
   ]
  },
  {
   "cell_type": "markdown",
   "id": "ea78ff2f-c126-485d-8cfd-2b16ce378add",
   "metadata": {},
   "source": [
    "## Convert the dataframe into csv file or any type of file i.e. Excel file"
   ]
  },
  {
   "cell_type": "code",
   "execution_count": 5,
   "id": "c06c9d22-52e6-40b4-8801-1667f9421255",
   "metadata": {},
   "outputs": [],
   "source": [
    "df.to_csv('friend.csv')"
   ]
  },
  {
   "cell_type": "code",
   "execution_count": 6,
   "id": "95559641-9aeb-44ee-a6e6-cb1c0270c3a4",
   "metadata": {},
   "outputs": [],
   "source": [
    "df.to_csv('friend_indexFalse.csv', index=False)"
   ]
  },
  {
   "cell_type": "code",
   "execution_count": 7,
   "id": "7890fabb-d407-4485-be2e-1d0d0d7c32e9",
   "metadata": {},
   "outputs": [
    {
     "data": {
      "text/html": [
       "<div>\n",
       "<style scoped>\n",
       "    .dataframe tbody tr th:only-of-type {\n",
       "        vertical-align: middle;\n",
       "    }\n",
       "\n",
       "    .dataframe tbody tr th {\n",
       "        vertical-align: top;\n",
       "    }\n",
       "\n",
       "    .dataframe thead th {\n",
       "        text-align: right;\n",
       "    }\n",
       "</style>\n",
       "<table border=\"1\" class=\"dataframe\">\n",
       "  <thead>\n",
       "    <tr style=\"text-align: right;\">\n",
       "      <th></th>\n",
       "      <th>name</th>\n",
       "      <th>mark</th>\n",
       "      <th>city</th>\n",
       "    </tr>\n",
       "  </thead>\n",
       "  <tbody>\n",
       "    <tr>\n",
       "      <th>0</th>\n",
       "      <td>harry</td>\n",
       "      <td>92</td>\n",
       "      <td>rampur</td>\n",
       "    </tr>\n",
       "    <tr>\n",
       "      <th>1</th>\n",
       "      <td>rohan</td>\n",
       "      <td>34</td>\n",
       "      <td>kolkata</td>\n",
       "    </tr>\n",
       "  </tbody>\n",
       "</table>\n",
       "</div>"
      ],
      "text/plain": [
       "    name  mark     city\n",
       "0  harry    92   rampur\n",
       "1  rohan    34  kolkata"
      ]
     },
     "execution_count": 7,
     "metadata": {},
     "output_type": "execute_result"
    }
   ],
   "source": [
    "df.head(2) # To show first two rows"
   ]
  },
  {
   "cell_type": "code",
   "execution_count": 8,
   "id": "e03393ec-860a-46cd-b71b-18753afc3ef4",
   "metadata": {},
   "outputs": [
    {
     "data": {
      "text/html": [
       "<div>\n",
       "<style scoped>\n",
       "    .dataframe tbody tr th:only-of-type {\n",
       "        vertical-align: middle;\n",
       "    }\n",
       "\n",
       "    .dataframe tbody tr th {\n",
       "        vertical-align: top;\n",
       "    }\n",
       "\n",
       "    .dataframe thead th {\n",
       "        text-align: right;\n",
       "    }\n",
       "</style>\n",
       "<table border=\"1\" class=\"dataframe\">\n",
       "  <thead>\n",
       "    <tr style=\"text-align: right;\">\n",
       "      <th></th>\n",
       "      <th>name</th>\n",
       "      <th>mark</th>\n",
       "      <th>city</th>\n",
       "    </tr>\n",
       "  </thead>\n",
       "  <tbody>\n",
       "    <tr>\n",
       "      <th>2</th>\n",
       "      <td>skillf</td>\n",
       "      <td>24</td>\n",
       "      <td>barelly</td>\n",
       "    </tr>\n",
       "    <tr>\n",
       "      <th>3</th>\n",
       "      <td>subha</td>\n",
       "      <td>17</td>\n",
       "      <td>balasore</td>\n",
       "    </tr>\n",
       "  </tbody>\n",
       "</table>\n",
       "</div>"
      ],
      "text/plain": [
       "     name  mark      city\n",
       "2  skillf    24   barelly\n",
       "3   subha    17  balasore"
      ]
     },
     "execution_count": 8,
     "metadata": {},
     "output_type": "execute_result"
    }
   ],
   "source": [
    "df.tail(2) # To show last two rows"
   ]
  },
  {
   "cell_type": "code",
   "execution_count": 9,
   "id": "a4b7857e-f422-40e1-89f8-67641a951acb",
   "metadata": {},
   "outputs": [
    {
     "data": {
      "text/html": [
       "<div>\n",
       "<style scoped>\n",
       "    .dataframe tbody tr th:only-of-type {\n",
       "        vertical-align: middle;\n",
       "    }\n",
       "\n",
       "    .dataframe tbody tr th {\n",
       "        vertical-align: top;\n",
       "    }\n",
       "\n",
       "    .dataframe thead th {\n",
       "        text-align: right;\n",
       "    }\n",
       "</style>\n",
       "<table border=\"1\" class=\"dataframe\">\n",
       "  <thead>\n",
       "    <tr style=\"text-align: right;\">\n",
       "      <th></th>\n",
       "      <th>mark</th>\n",
       "    </tr>\n",
       "  </thead>\n",
       "  <tbody>\n",
       "    <tr>\n",
       "      <th>count</th>\n",
       "      <td>4.00000</td>\n",
       "    </tr>\n",
       "    <tr>\n",
       "      <th>mean</th>\n",
       "      <td>41.75000</td>\n",
       "    </tr>\n",
       "    <tr>\n",
       "      <th>std</th>\n",
       "      <td>34.21866</td>\n",
       "    </tr>\n",
       "    <tr>\n",
       "      <th>min</th>\n",
       "      <td>17.00000</td>\n",
       "    </tr>\n",
       "    <tr>\n",
       "      <th>25%</th>\n",
       "      <td>22.25000</td>\n",
       "    </tr>\n",
       "    <tr>\n",
       "      <th>50%</th>\n",
       "      <td>29.00000</td>\n",
       "    </tr>\n",
       "    <tr>\n",
       "      <th>75%</th>\n",
       "      <td>48.50000</td>\n",
       "    </tr>\n",
       "    <tr>\n",
       "      <th>max</th>\n",
       "      <td>92.00000</td>\n",
       "    </tr>\n",
       "  </tbody>\n",
       "</table>\n",
       "</div>"
      ],
      "text/plain": [
       "           mark\n",
       "count   4.00000\n",
       "mean   41.75000\n",
       "std    34.21866\n",
       "min    17.00000\n",
       "25%    22.25000\n",
       "50%    29.00000\n",
       "75%    48.50000\n",
       "max    92.00000"
      ]
     },
     "execution_count": 9,
     "metadata": {},
     "output_type": "execute_result"
    }
   ],
   "source": [
    "df.describe() # To describe the numerical values of the data set"
   ]
  },
  {
   "cell_type": "code",
   "execution_count": 10,
   "id": "501b301d-ec5c-48ba-9fdb-0a1fe500cf9e",
   "metadata": {},
   "outputs": [
    {
     "data": {
      "text/html": [
       "<div>\n",
       "<style scoped>\n",
       "    .dataframe tbody tr th:only-of-type {\n",
       "        vertical-align: middle;\n",
       "    }\n",
       "\n",
       "    .dataframe tbody tr th {\n",
       "        vertical-align: top;\n",
       "    }\n",
       "\n",
       "    .dataframe thead th {\n",
       "        text-align: right;\n",
       "    }\n",
       "</style>\n",
       "<table border=\"1\" class=\"dataframe\">\n",
       "  <thead>\n",
       "    <tr style=\"text-align: right;\">\n",
       "      <th></th>\n",
       "      <th>name</th>\n",
       "      <th>mark</th>\n",
       "      <th>city</th>\n",
       "    </tr>\n",
       "  </thead>\n",
       "  <tbody>\n",
       "    <tr>\n",
       "      <th>0</th>\n",
       "      <td>harry</td>\n",
       "      <td>92</td>\n",
       "      <td>rampur</td>\n",
       "    </tr>\n",
       "    <tr>\n",
       "      <th>1</th>\n",
       "      <td>rohan</td>\n",
       "      <td>34</td>\n",
       "      <td>kolkata</td>\n",
       "    </tr>\n",
       "    <tr>\n",
       "      <th>2</th>\n",
       "      <td>skillf</td>\n",
       "      <td>24</td>\n",
       "      <td>barelly</td>\n",
       "    </tr>\n",
       "    <tr>\n",
       "      <th>3</th>\n",
       "      <td>subha</td>\n",
       "      <td>17</td>\n",
       "      <td>balasore</td>\n",
       "    </tr>\n",
       "  </tbody>\n",
       "</table>\n",
       "</div>"
      ],
      "text/plain": [
       "     name  mark      city\n",
       "0   harry    92    rampur\n",
       "1   rohan    34   kolkata\n",
       "2  skillf    24   barelly\n",
       "3   subha    17  balasore"
      ]
     },
     "execution_count": 10,
     "metadata": {},
     "output_type": "execute_result"
    }
   ],
   "source": [
    "df"
   ]
  },
  {
   "cell_type": "markdown",
   "id": "8bd6ecd5-a2d8-45cc-9cad-30c6e9e6241b",
   "metadata": {},
   "source": [
    "## To change a content in the csv file"
   ]
  },
  {
   "cell_type": "code",
   "execution_count": 11,
   "id": "6240d5d3-0b0e-4905-a576-53b918a6cc3a",
   "metadata": {},
   "outputs": [
    {
     "name": "stderr",
     "output_type": "stream",
     "text": [
      "C:\\Users\\mebub_9a7jdi8\\AppData\\Local\\Temp\\ipykernel_1704\\2341372380.py:1: SettingWithCopyWarning: \n",
      "A value is trying to be set on a copy of a slice from a DataFrame\n",
      "\n",
      "See the caveats in the documentation: https://pandas.pydata.org/pandas-docs/stable/user_guide/indexing.html#returning-a-view-versus-a-copy\n",
      "  df['name'][0] = 'Bubu'\n"
     ]
    }
   ],
   "source": [
    "df['name'][0] = 'Bubu'"
   ]
  },
  {
   "cell_type": "code",
   "execution_count": 12,
   "id": "9cb22bbb-e93c-456d-aee2-72f7f12559a8",
   "metadata": {},
   "outputs": [
    {
     "data": {
      "text/html": [
       "<div>\n",
       "<style scoped>\n",
       "    .dataframe tbody tr th:only-of-type {\n",
       "        vertical-align: middle;\n",
       "    }\n",
       "\n",
       "    .dataframe tbody tr th {\n",
       "        vertical-align: top;\n",
       "    }\n",
       "\n",
       "    .dataframe thead th {\n",
       "        text-align: right;\n",
       "    }\n",
       "</style>\n",
       "<table border=\"1\" class=\"dataframe\">\n",
       "  <thead>\n",
       "    <tr style=\"text-align: right;\">\n",
       "      <th></th>\n",
       "      <th>name</th>\n",
       "      <th>mark</th>\n",
       "      <th>city</th>\n",
       "    </tr>\n",
       "  </thead>\n",
       "  <tbody>\n",
       "    <tr>\n",
       "      <th>0</th>\n",
       "      <td>Bubu</td>\n",
       "      <td>92</td>\n",
       "      <td>rampur</td>\n",
       "    </tr>\n",
       "    <tr>\n",
       "      <th>1</th>\n",
       "      <td>rohan</td>\n",
       "      <td>34</td>\n",
       "      <td>kolkata</td>\n",
       "    </tr>\n",
       "    <tr>\n",
       "      <th>2</th>\n",
       "      <td>skillf</td>\n",
       "      <td>24</td>\n",
       "      <td>barelly</td>\n",
       "    </tr>\n",
       "    <tr>\n",
       "      <th>3</th>\n",
       "      <td>subha</td>\n",
       "      <td>17</td>\n",
       "      <td>balasore</td>\n",
       "    </tr>\n",
       "  </tbody>\n",
       "</table>\n",
       "</div>"
      ],
      "text/plain": [
       "     name  mark      city\n",
       "0    Bubu    92    rampur\n",
       "1   rohan    34   kolkata\n",
       "2  skillf    24   barelly\n",
       "3   subha    17  balasore"
      ]
     },
     "execution_count": 12,
     "metadata": {},
     "output_type": "execute_result"
    }
   ],
   "source": [
    "df"
   ]
  },
  {
   "cell_type": "markdown",
   "id": "148ed550-27da-4a16-b7a7-14414bfec338",
   "metadata": {},
   "source": [
    "## To change the Index number "
   ]
  },
  {
   "cell_type": "code",
   "execution_count": 13,
   "id": "0f2df778-8c72-43d5-8545-c788018d981d",
   "metadata": {},
   "outputs": [],
   "source": [
    "df.index = ['first', 'second', 'third', 'fourth']"
   ]
  },
  {
   "cell_type": "code",
   "execution_count": 14,
   "id": "34c1f503-e5cd-4496-b9ed-c0d0d65ba4c8",
   "metadata": {},
   "outputs": [
    {
     "data": {
      "text/html": [
       "<div>\n",
       "<style scoped>\n",
       "    .dataframe tbody tr th:only-of-type {\n",
       "        vertical-align: middle;\n",
       "    }\n",
       "\n",
       "    .dataframe tbody tr th {\n",
       "        vertical-align: top;\n",
       "    }\n",
       "\n",
       "    .dataframe thead th {\n",
       "        text-align: right;\n",
       "    }\n",
       "</style>\n",
       "<table border=\"1\" class=\"dataframe\">\n",
       "  <thead>\n",
       "    <tr style=\"text-align: right;\">\n",
       "      <th></th>\n",
       "      <th>name</th>\n",
       "      <th>mark</th>\n",
       "      <th>city</th>\n",
       "    </tr>\n",
       "  </thead>\n",
       "  <tbody>\n",
       "    <tr>\n",
       "      <th>first</th>\n",
       "      <td>Bubu</td>\n",
       "      <td>92</td>\n",
       "      <td>rampur</td>\n",
       "    </tr>\n",
       "    <tr>\n",
       "      <th>second</th>\n",
       "      <td>rohan</td>\n",
       "      <td>34</td>\n",
       "      <td>kolkata</td>\n",
       "    </tr>\n",
       "    <tr>\n",
       "      <th>third</th>\n",
       "      <td>skillf</td>\n",
       "      <td>24</td>\n",
       "      <td>barelly</td>\n",
       "    </tr>\n",
       "    <tr>\n",
       "      <th>fourth</th>\n",
       "      <td>subha</td>\n",
       "      <td>17</td>\n",
       "      <td>balasore</td>\n",
       "    </tr>\n",
       "  </tbody>\n",
       "</table>\n",
       "</div>"
      ],
      "text/plain": [
       "          name  mark      city\n",
       "first     Bubu    92    rampur\n",
       "second   rohan    34   kolkata\n",
       "third   skillf    24   barelly\n",
       "fourth   subha    17  balasore"
      ]
     },
     "execution_count": 14,
     "metadata": {},
     "output_type": "execute_result"
    }
   ],
   "source": [
    "df"
   ]
  },
  {
   "cell_type": "markdown",
   "id": "e4ad9307-0f6a-4443-8df8-26bfa11f37b3",
   "metadata": {},
   "source": [
    "## How to print a series"
   ]
  },
  {
   "cell_type": "code",
   "execution_count": 15,
   "id": "de951f0f-0cc1-43a9-b4fc-a233b92bc9a3",
   "metadata": {},
   "outputs": [],
   "source": [
    "ser = pd.Series(np.random.rand(34))"
   ]
  },
  {
   "cell_type": "code",
   "execution_count": 16,
   "id": "341742f8-3fcf-4c2e-acdb-9ca90d68205c",
   "metadata": {},
   "outputs": [
    {
     "data": {
      "text/plain": [
       "0     0.087777\n",
       "1     0.716518\n",
       "2     0.891623\n",
       "3     0.920956\n",
       "4     0.021763\n",
       "5     0.061269\n",
       "6     0.936575\n",
       "7     0.547374\n",
       "8     0.548745\n",
       "9     0.606563\n",
       "10    0.833459\n",
       "11    0.866760\n",
       "12    0.167369\n",
       "13    0.016363\n",
       "14    0.461033\n",
       "15    0.080240\n",
       "16    0.680703\n",
       "17    0.712014\n",
       "18    0.189412\n",
       "19    0.750495\n",
       "20    0.472338\n",
       "21    0.735751\n",
       "22    0.451301\n",
       "23    0.581813\n",
       "24    0.487514\n",
       "25    0.483375\n",
       "26    0.413177\n",
       "27    0.475620\n",
       "28    0.032223\n",
       "29    0.594331\n",
       "30    0.743522\n",
       "31    0.223856\n",
       "32    0.113559\n",
       "33    0.038239\n",
       "dtype: float64"
      ]
     },
     "execution_count": 16,
     "metadata": {},
     "output_type": "execute_result"
    }
   ],
   "source": [
    "ser"
   ]
  },
  {
   "cell_type": "code",
   "execution_count": 17,
   "id": "7a789df9-aabb-4468-a523-ee409dedf27b",
   "metadata": {},
   "outputs": [
    {
     "data": {
      "text/plain": [
       "pandas.core.series.Series"
      ]
     },
     "execution_count": 17,
     "metadata": {},
     "output_type": "execute_result"
    }
   ],
   "source": [
    "type (ser)"
   ]
  },
  {
   "cell_type": "markdown",
   "id": "82801548-0463-41d3-aa76-01eb913b1beb",
   "metadata": {},
   "source": [
    "## To make a new dataframe"
   ]
  },
  {
   "cell_type": "code",
   "execution_count": 18,
   "id": "264264c9-c1ba-43bc-bf45-85d72cc354cc",
   "metadata": {},
   "outputs": [],
   "source": [
    "newdf = pd.DataFrame(np.random.rand(334,5), index=np.arange(334))"
   ]
  },
  {
   "cell_type": "code",
   "execution_count": 19,
   "id": "9f783c4a-49ac-4774-bcfc-2109d4091fac",
   "metadata": {},
   "outputs": [
    {
     "data": {
      "text/html": [
       "<div>\n",
       "<style scoped>\n",
       "    .dataframe tbody tr th:only-of-type {\n",
       "        vertical-align: middle;\n",
       "    }\n",
       "\n",
       "    .dataframe tbody tr th {\n",
       "        vertical-align: top;\n",
       "    }\n",
       "\n",
       "    .dataframe thead th {\n",
       "        text-align: right;\n",
       "    }\n",
       "</style>\n",
       "<table border=\"1\" class=\"dataframe\">\n",
       "  <thead>\n",
       "    <tr style=\"text-align: right;\">\n",
       "      <th></th>\n",
       "      <th>0</th>\n",
       "      <th>1</th>\n",
       "      <th>2</th>\n",
       "      <th>3</th>\n",
       "      <th>4</th>\n",
       "    </tr>\n",
       "  </thead>\n",
       "  <tbody>\n",
       "    <tr>\n",
       "      <th>0</th>\n",
       "      <td>0.337269</td>\n",
       "      <td>0.931343</td>\n",
       "      <td>0.284072</td>\n",
       "      <td>0.453154</td>\n",
       "      <td>0.623630</td>\n",
       "    </tr>\n",
       "    <tr>\n",
       "      <th>1</th>\n",
       "      <td>0.215166</td>\n",
       "      <td>0.966952</td>\n",
       "      <td>0.372151</td>\n",
       "      <td>0.673929</td>\n",
       "      <td>0.102104</td>\n",
       "    </tr>\n",
       "    <tr>\n",
       "      <th>2</th>\n",
       "      <td>0.243798</td>\n",
       "      <td>0.342572</td>\n",
       "      <td>0.956810</td>\n",
       "      <td>0.368820</td>\n",
       "      <td>0.870364</td>\n",
       "    </tr>\n",
       "    <tr>\n",
       "      <th>3</th>\n",
       "      <td>0.710989</td>\n",
       "      <td>0.522714</td>\n",
       "      <td>0.369046</td>\n",
       "      <td>0.745321</td>\n",
       "      <td>0.853033</td>\n",
       "    </tr>\n",
       "    <tr>\n",
       "      <th>4</th>\n",
       "      <td>0.228563</td>\n",
       "      <td>0.086343</td>\n",
       "      <td>0.220168</td>\n",
       "      <td>0.126385</td>\n",
       "      <td>0.979580</td>\n",
       "    </tr>\n",
       "  </tbody>\n",
       "</table>\n",
       "</div>"
      ],
      "text/plain": [
       "          0         1         2         3         4\n",
       "0  0.337269  0.931343  0.284072  0.453154  0.623630\n",
       "1  0.215166  0.966952  0.372151  0.673929  0.102104\n",
       "2  0.243798  0.342572  0.956810  0.368820  0.870364\n",
       "3  0.710989  0.522714  0.369046  0.745321  0.853033\n",
       "4  0.228563  0.086343  0.220168  0.126385  0.979580"
      ]
     },
     "execution_count": 19,
     "metadata": {},
     "output_type": "execute_result"
    }
   ],
   "source": [
    "newdf.head()"
   ]
  },
  {
   "cell_type": "code",
   "execution_count": 20,
   "id": "e5cef3ff-02a3-483e-9c5b-e5d3872e40b5",
   "metadata": {},
   "outputs": [
    {
     "data": {
      "text/plain": [
       "pandas.core.frame.DataFrame"
      ]
     },
     "execution_count": 20,
     "metadata": {},
     "output_type": "execute_result"
    }
   ],
   "source": [
    "type(newdf)"
   ]
  },
  {
   "cell_type": "markdown",
   "id": "b28c8a83-24b4-4770-bf57-772d6a9ffeee",
   "metadata": {},
   "source": [
    "## To change the dara type"
   ]
  },
  {
   "cell_type": "code",
   "execution_count": 21,
   "id": "0d0ed300-96a0-4b5f-91d7-55a0418d7f2f",
   "metadata": {},
   "outputs": [],
   "source": [
    "# newdf[0][0] = \"bubu\""
   ]
  },
  {
   "cell_type": "code",
   "execution_count": 22,
   "id": "f0fadd91-1c99-4c1f-85b4-9cb5c3f2521c",
   "metadata": {},
   "outputs": [
    {
     "data": {
      "text/plain": [
       "0    float64\n",
       "1    float64\n",
       "2    float64\n",
       "3    float64\n",
       "4    float64\n",
       "dtype: object"
      ]
     },
     "execution_count": 22,
     "metadata": {},
     "output_type": "execute_result"
    }
   ],
   "source": [
    "newdf.dtypes"
   ]
  },
  {
   "cell_type": "code",
   "execution_count": 23,
   "id": "40b5001d-a78a-41df-8a55-c8be229884ea",
   "metadata": {},
   "outputs": [
    {
     "data": {
      "text/html": [
       "<div>\n",
       "<style scoped>\n",
       "    .dataframe tbody tr th:only-of-type {\n",
       "        vertical-align: middle;\n",
       "    }\n",
       "\n",
       "    .dataframe tbody tr th {\n",
       "        vertical-align: top;\n",
       "    }\n",
       "\n",
       "    .dataframe thead th {\n",
       "        text-align: right;\n",
       "    }\n",
       "</style>\n",
       "<table border=\"1\" class=\"dataframe\">\n",
       "  <thead>\n",
       "    <tr style=\"text-align: right;\">\n",
       "      <th></th>\n",
       "      <th>0</th>\n",
       "      <th>1</th>\n",
       "      <th>2</th>\n",
       "      <th>3</th>\n",
       "      <th>4</th>\n",
       "    </tr>\n",
       "  </thead>\n",
       "  <tbody>\n",
       "    <tr>\n",
       "      <th>0</th>\n",
       "      <td>0.337269</td>\n",
       "      <td>0.931343</td>\n",
       "      <td>0.284072</td>\n",
       "      <td>0.453154</td>\n",
       "      <td>0.623630</td>\n",
       "    </tr>\n",
       "    <tr>\n",
       "      <th>1</th>\n",
       "      <td>0.215166</td>\n",
       "      <td>0.966952</td>\n",
       "      <td>0.372151</td>\n",
       "      <td>0.673929</td>\n",
       "      <td>0.102104</td>\n",
       "    </tr>\n",
       "    <tr>\n",
       "      <th>2</th>\n",
       "      <td>0.243798</td>\n",
       "      <td>0.342572</td>\n",
       "      <td>0.956810</td>\n",
       "      <td>0.368820</td>\n",
       "      <td>0.870364</td>\n",
       "    </tr>\n",
       "    <tr>\n",
       "      <th>3</th>\n",
       "      <td>0.710989</td>\n",
       "      <td>0.522714</td>\n",
       "      <td>0.369046</td>\n",
       "      <td>0.745321</td>\n",
       "      <td>0.853033</td>\n",
       "    </tr>\n",
       "    <tr>\n",
       "      <th>4</th>\n",
       "      <td>0.228563</td>\n",
       "      <td>0.086343</td>\n",
       "      <td>0.220168</td>\n",
       "      <td>0.126385</td>\n",
       "      <td>0.979580</td>\n",
       "    </tr>\n",
       "  </tbody>\n",
       "</table>\n",
       "</div>"
      ],
      "text/plain": [
       "          0         1         2         3         4\n",
       "0  0.337269  0.931343  0.284072  0.453154  0.623630\n",
       "1  0.215166  0.966952  0.372151  0.673929  0.102104\n",
       "2  0.243798  0.342572  0.956810  0.368820  0.870364\n",
       "3  0.710989  0.522714  0.369046  0.745321  0.853033\n",
       "4  0.228563  0.086343  0.220168  0.126385  0.979580"
      ]
     },
     "execution_count": 23,
     "metadata": {},
     "output_type": "execute_result"
    }
   ],
   "source": [
    "newdf.head()"
   ]
  },
  {
   "cell_type": "code",
   "execution_count": 24,
   "id": "8e6e9fb0-a7b7-4d5b-87e0-f4f60b9bf0ea",
   "metadata": {},
   "outputs": [
    {
     "data": {
      "text/plain": [
       "Index([  0,   1,   2,   3,   4,   5,   6,   7,   8,   9,\n",
       "       ...\n",
       "       324, 325, 326, 327, 328, 329, 330, 331, 332, 333],\n",
       "      dtype='int32', length=334)"
      ]
     },
     "execution_count": 24,
     "metadata": {},
     "output_type": "execute_result"
    }
   ],
   "source": [
    "newdf.index"
   ]
  },
  {
   "cell_type": "markdown",
   "id": "dee4c698-4022-4563-b4c7-88dd75eb2e3a",
   "metadata": {},
   "source": [
    "## How to convert a dataframe into numpy arrays"
   ]
  },
  {
   "cell_type": "code",
   "execution_count": 25,
   "id": "3e4a9c06-b9a4-4286-8b5d-8228460879bf",
   "metadata": {},
   "outputs": [
    {
     "data": {
      "text/plain": [
       "array([[0.33726914, 0.93134258, 0.28407188, 0.45315417, 0.6236304 ],\n",
       "       [0.21516607, 0.9669522 , 0.37215096, 0.67392914, 0.10210398],\n",
       "       [0.24379758, 0.34257192, 0.9568097 , 0.36882037, 0.87036405],\n",
       "       ...,\n",
       "       [0.45660683, 0.83878464, 0.62335629, 0.65258888, 0.40772918],\n",
       "       [0.39228249, 0.24609097, 0.72085474, 0.84046027, 0.30549666],\n",
       "       [0.10591757, 0.19041764, 0.05160152, 0.77655843, 0.50162055]])"
      ]
     },
     "execution_count": 25,
     "metadata": {},
     "output_type": "execute_result"
    }
   ],
   "source": [
    "newdf.to_numpy()"
   ]
  },
  {
   "cell_type": "markdown",
   "id": "76b090fb-4f18-4e5f-8537-d4bcc396fe2a",
   "metadata": {},
   "source": [
    "## Transpose (convert rows into columns and vice versa)"
   ]
  },
  {
   "cell_type": "code",
   "execution_count": 26,
   "id": "65ca6cdc-f879-4331-a762-07930f8d8497",
   "metadata": {},
   "outputs": [
    {
     "data": {
      "text/html": [
       "<div>\n",
       "<style scoped>\n",
       "    .dataframe tbody tr th:only-of-type {\n",
       "        vertical-align: middle;\n",
       "    }\n",
       "\n",
       "    .dataframe tbody tr th {\n",
       "        vertical-align: top;\n",
       "    }\n",
       "\n",
       "    .dataframe thead th {\n",
       "        text-align: right;\n",
       "    }\n",
       "</style>\n",
       "<table border=\"1\" class=\"dataframe\">\n",
       "  <thead>\n",
       "    <tr style=\"text-align: right;\">\n",
       "      <th></th>\n",
       "      <th>0</th>\n",
       "      <th>1</th>\n",
       "      <th>2</th>\n",
       "      <th>3</th>\n",
       "      <th>4</th>\n",
       "      <th>5</th>\n",
       "      <th>6</th>\n",
       "      <th>7</th>\n",
       "      <th>8</th>\n",
       "      <th>9</th>\n",
       "      <th>...</th>\n",
       "      <th>324</th>\n",
       "      <th>325</th>\n",
       "      <th>326</th>\n",
       "      <th>327</th>\n",
       "      <th>328</th>\n",
       "      <th>329</th>\n",
       "      <th>330</th>\n",
       "      <th>331</th>\n",
       "      <th>332</th>\n",
       "      <th>333</th>\n",
       "    </tr>\n",
       "  </thead>\n",
       "  <tbody>\n",
       "    <tr>\n",
       "      <th>0</th>\n",
       "      <td>0.337269</td>\n",
       "      <td>0.215166</td>\n",
       "      <td>0.243798</td>\n",
       "      <td>0.710989</td>\n",
       "      <td>0.228563</td>\n",
       "      <td>0.906581</td>\n",
       "      <td>0.439278</td>\n",
       "      <td>0.549065</td>\n",
       "      <td>0.183105</td>\n",
       "      <td>0.223202</td>\n",
       "      <td>...</td>\n",
       "      <td>0.812470</td>\n",
       "      <td>0.379556</td>\n",
       "      <td>0.861420</td>\n",
       "      <td>0.940333</td>\n",
       "      <td>0.720512</td>\n",
       "      <td>0.658816</td>\n",
       "      <td>0.635817</td>\n",
       "      <td>0.456607</td>\n",
       "      <td>0.392282</td>\n",
       "      <td>0.105918</td>\n",
       "    </tr>\n",
       "    <tr>\n",
       "      <th>1</th>\n",
       "      <td>0.931343</td>\n",
       "      <td>0.966952</td>\n",
       "      <td>0.342572</td>\n",
       "      <td>0.522714</td>\n",
       "      <td>0.086343</td>\n",
       "      <td>0.310312</td>\n",
       "      <td>0.191996</td>\n",
       "      <td>0.976133</td>\n",
       "      <td>0.138109</td>\n",
       "      <td>0.647870</td>\n",
       "      <td>...</td>\n",
       "      <td>0.547983</td>\n",
       "      <td>0.706129</td>\n",
       "      <td>0.638235</td>\n",
       "      <td>0.792203</td>\n",
       "      <td>0.403547</td>\n",
       "      <td>0.329833</td>\n",
       "      <td>0.333891</td>\n",
       "      <td>0.838785</td>\n",
       "      <td>0.246091</td>\n",
       "      <td>0.190418</td>\n",
       "    </tr>\n",
       "    <tr>\n",
       "      <th>2</th>\n",
       "      <td>0.284072</td>\n",
       "      <td>0.372151</td>\n",
       "      <td>0.956810</td>\n",
       "      <td>0.369046</td>\n",
       "      <td>0.220168</td>\n",
       "      <td>0.167106</td>\n",
       "      <td>0.193798</td>\n",
       "      <td>0.678132</td>\n",
       "      <td>0.258272</td>\n",
       "      <td>0.477245</td>\n",
       "      <td>...</td>\n",
       "      <td>0.202302</td>\n",
       "      <td>0.574728</td>\n",
       "      <td>0.858805</td>\n",
       "      <td>0.516647</td>\n",
       "      <td>0.639682</td>\n",
       "      <td>0.125303</td>\n",
       "      <td>0.383963</td>\n",
       "      <td>0.623356</td>\n",
       "      <td>0.720855</td>\n",
       "      <td>0.051602</td>\n",
       "    </tr>\n",
       "    <tr>\n",
       "      <th>3</th>\n",
       "      <td>0.453154</td>\n",
       "      <td>0.673929</td>\n",
       "      <td>0.368820</td>\n",
       "      <td>0.745321</td>\n",
       "      <td>0.126385</td>\n",
       "      <td>0.918570</td>\n",
       "      <td>0.388819</td>\n",
       "      <td>0.177681</td>\n",
       "      <td>0.343830</td>\n",
       "      <td>0.563145</td>\n",
       "      <td>...</td>\n",
       "      <td>0.390923</td>\n",
       "      <td>0.167606</td>\n",
       "      <td>0.344182</td>\n",
       "      <td>0.152613</td>\n",
       "      <td>0.111780</td>\n",
       "      <td>0.990887</td>\n",
       "      <td>0.269428</td>\n",
       "      <td>0.652589</td>\n",
       "      <td>0.840460</td>\n",
       "      <td>0.776558</td>\n",
       "    </tr>\n",
       "    <tr>\n",
       "      <th>4</th>\n",
       "      <td>0.623630</td>\n",
       "      <td>0.102104</td>\n",
       "      <td>0.870364</td>\n",
       "      <td>0.853033</td>\n",
       "      <td>0.979580</td>\n",
       "      <td>0.086917</td>\n",
       "      <td>0.601993</td>\n",
       "      <td>0.009017</td>\n",
       "      <td>0.783134</td>\n",
       "      <td>0.777157</td>\n",
       "      <td>...</td>\n",
       "      <td>0.239734</td>\n",
       "      <td>0.960484</td>\n",
       "      <td>0.668246</td>\n",
       "      <td>0.851967</td>\n",
       "      <td>0.330575</td>\n",
       "      <td>0.163258</td>\n",
       "      <td>0.834897</td>\n",
       "      <td>0.407729</td>\n",
       "      <td>0.305497</td>\n",
       "      <td>0.501621</td>\n",
       "    </tr>\n",
       "  </tbody>\n",
       "</table>\n",
       "<p>5 rows × 334 columns</p>\n",
       "</div>"
      ],
      "text/plain": [
       "        0         1         2         3         4         5         6    \\\n",
       "0  0.337269  0.215166  0.243798  0.710989  0.228563  0.906581  0.439278   \n",
       "1  0.931343  0.966952  0.342572  0.522714  0.086343  0.310312  0.191996   \n",
       "2  0.284072  0.372151  0.956810  0.369046  0.220168  0.167106  0.193798   \n",
       "3  0.453154  0.673929  0.368820  0.745321  0.126385  0.918570  0.388819   \n",
       "4  0.623630  0.102104  0.870364  0.853033  0.979580  0.086917  0.601993   \n",
       "\n",
       "        7         8         9    ...       324       325       326       327  \\\n",
       "0  0.549065  0.183105  0.223202  ...  0.812470  0.379556  0.861420  0.940333   \n",
       "1  0.976133  0.138109  0.647870  ...  0.547983  0.706129  0.638235  0.792203   \n",
       "2  0.678132  0.258272  0.477245  ...  0.202302  0.574728  0.858805  0.516647   \n",
       "3  0.177681  0.343830  0.563145  ...  0.390923  0.167606  0.344182  0.152613   \n",
       "4  0.009017  0.783134  0.777157  ...  0.239734  0.960484  0.668246  0.851967   \n",
       "\n",
       "        328       329       330       331       332       333  \n",
       "0  0.720512  0.658816  0.635817  0.456607  0.392282  0.105918  \n",
       "1  0.403547  0.329833  0.333891  0.838785  0.246091  0.190418  \n",
       "2  0.639682  0.125303  0.383963  0.623356  0.720855  0.051602  \n",
       "3  0.111780  0.990887  0.269428  0.652589  0.840460  0.776558  \n",
       "4  0.330575  0.163258  0.834897  0.407729  0.305497  0.501621  \n",
       "\n",
       "[5 rows x 334 columns]"
      ]
     },
     "execution_count": 26,
     "metadata": {},
     "output_type": "execute_result"
    }
   ],
   "source": [
    "newdf.T"
   ]
  },
  {
   "cell_type": "markdown",
   "id": "fc5fd63b-34cc-4f26-91f6-0d0794f994c5",
   "metadata": {},
   "source": [
    "## Sort the dataframe upside down"
   ]
  },
  {
   "cell_type": "code",
   "execution_count": 27,
   "id": "26f9f10b-7d51-4f55-93ec-a6439290f990",
   "metadata": {},
   "outputs": [
    {
     "data": {
      "text/html": [
       "<div>\n",
       "<style scoped>\n",
       "    .dataframe tbody tr th:only-of-type {\n",
       "        vertical-align: middle;\n",
       "    }\n",
       "\n",
       "    .dataframe tbody tr th {\n",
       "        vertical-align: top;\n",
       "    }\n",
       "\n",
       "    .dataframe thead th {\n",
       "        text-align: right;\n",
       "    }\n",
       "</style>\n",
       "<table border=\"1\" class=\"dataframe\">\n",
       "  <thead>\n",
       "    <tr style=\"text-align: right;\">\n",
       "      <th></th>\n",
       "      <th>0</th>\n",
       "      <th>1</th>\n",
       "      <th>2</th>\n",
       "      <th>3</th>\n",
       "      <th>4</th>\n",
       "    </tr>\n",
       "  </thead>\n",
       "  <tbody>\n",
       "    <tr>\n",
       "      <th>333</th>\n",
       "      <td>0.105918</td>\n",
       "      <td>0.190418</td>\n",
       "      <td>0.051602</td>\n",
       "      <td>0.776558</td>\n",
       "      <td>0.501621</td>\n",
       "    </tr>\n",
       "    <tr>\n",
       "      <th>332</th>\n",
       "      <td>0.392282</td>\n",
       "      <td>0.246091</td>\n",
       "      <td>0.720855</td>\n",
       "      <td>0.840460</td>\n",
       "      <td>0.305497</td>\n",
       "    </tr>\n",
       "    <tr>\n",
       "      <th>331</th>\n",
       "      <td>0.456607</td>\n",
       "      <td>0.838785</td>\n",
       "      <td>0.623356</td>\n",
       "      <td>0.652589</td>\n",
       "      <td>0.407729</td>\n",
       "    </tr>\n",
       "    <tr>\n",
       "      <th>330</th>\n",
       "      <td>0.635817</td>\n",
       "      <td>0.333891</td>\n",
       "      <td>0.383963</td>\n",
       "      <td>0.269428</td>\n",
       "      <td>0.834897</td>\n",
       "    </tr>\n",
       "    <tr>\n",
       "      <th>329</th>\n",
       "      <td>0.658816</td>\n",
       "      <td>0.329833</td>\n",
       "      <td>0.125303</td>\n",
       "      <td>0.990887</td>\n",
       "      <td>0.163258</td>\n",
       "    </tr>\n",
       "  </tbody>\n",
       "</table>\n",
       "</div>"
      ],
      "text/plain": [
       "            0         1         2         3         4\n",
       "333  0.105918  0.190418  0.051602  0.776558  0.501621\n",
       "332  0.392282  0.246091  0.720855  0.840460  0.305497\n",
       "331  0.456607  0.838785  0.623356  0.652589  0.407729\n",
       "330  0.635817  0.333891  0.383963  0.269428  0.834897\n",
       "329  0.658816  0.329833  0.125303  0.990887  0.163258"
      ]
     },
     "execution_count": 27,
     "metadata": {},
     "output_type": "execute_result"
    }
   ],
   "source": [
    "newdf.sort_index(axis=0, ascending=False).head()  # axis=0 : Row, axis=1 : column"
   ]
  },
  {
   "cell_type": "code",
   "execution_count": 28,
   "id": "327a252f-ef9a-4a64-8fd8-8a9c904f85f7",
   "metadata": {},
   "outputs": [
    {
     "data": {
      "text/plain": [
       "0      0.337269\n",
       "1      0.215166\n",
       "2      0.243798\n",
       "3      0.710989\n",
       "4      0.228563\n",
       "         ...   \n",
       "329    0.658816\n",
       "330    0.635817\n",
       "331    0.456607\n",
       "332    0.392282\n",
       "333    0.105918\n",
       "Name: 0, Length: 334, dtype: float64"
      ]
     },
     "execution_count": 28,
     "metadata": {},
     "output_type": "execute_result"
    }
   ],
   "source": [
    "newdf[0]"
   ]
  },
  {
   "cell_type": "code",
   "execution_count": null,
   "id": "3b81f990-a978-4549-8517-98fee4ac00e4",
   "metadata": {},
   "outputs": [],
   "source": []
  }
 ],
 "metadata": {
  "kernelspec": {
   "display_name": "Python 3 (ipykernel)",
   "language": "python",
   "name": "python3"
  },
  "language_info": {
   "codemirror_mode": {
    "name": "ipython",
    "version": 3
   },
   "file_extension": ".py",
   "mimetype": "text/x-python",
   "name": "python",
   "nbconvert_exporter": "python",
   "pygments_lexer": "ipython3",
   "version": "3.11.5"
  }
 },
 "nbformat": 4,
 "nbformat_minor": 5
}
