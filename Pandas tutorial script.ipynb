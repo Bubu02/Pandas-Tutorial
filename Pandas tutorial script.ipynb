{
 "cells": [
  {
   "cell_type": "markdown",
   "metadata": {},
   "source": [
    "## INTRO\n",
    "\n",
    "**Script:** \"Hi everyone, welcome back! If you've been following along, you already know how to set up your Python environment, organize your project files, and manage virtual environments using Anaconda. If not, be sure to check out those videos first. Today, we're diving into Python Pandas, an essential library for data manipulation and analysis. Whether you're just starting out or looking to refine your skills, this tutorial will give you a solid foundation in Pandas.\"\n",
    "\n",
    "**Visual:** Show a brief intro slide with mentions of previous videos and the Pandas logo."
   ]
  },
  {
   "cell_type": "markdown",
   "metadata": {},
   "source": [
    "### [SECTION 1: Installing Pandas]\n",
    "**Script:** \"Before we begin, make sure Pandas is installed in your virtual environment. If you're using Anaconda, Pandas comes pre-installed, but you can still use pip to install it if needed.\"\n",
    "\n",
    "***Code:*** `pip install pandas`\n",
    "\n",
    "***Visual:*** Show the command running in a terminal."
   ]
  },
  {
   "cell_type": "markdown",
   "metadata": {},
   "source": [
    "### [SECTION 2: Importing Pandas]\n",
    "**Script:** \"Once Pandas is installed, you need to import it into your Python script or notebook. Here's how you do it.\""
   ]
  },
  {
   "cell_type": "code",
   "execution_count": 1,
   "metadata": {},
   "outputs": [],
   "source": [
    "import pandas as pd"
   ]
  },
  {
   "cell_type": "markdown",
   "metadata": {},
   "source": [
    "### [SECTION 3: Loading Data]\n",
    "**Script:** \"Now, let's load some data. Pandas can read data from various formats like CSV, Excel, SQL, and more. In this example, we'll load a CSV file.\""
   ]
  },
  {
   "cell_type": "code",
   "execution_count": 2,
   "metadata": {},
   "outputs": [
    {
     "name": "stdout",
     "output_type": "stream",
     "text": [
      "   age  sex  cp  trestbps  chol  fbs  restecg  thalach  exang  oldpeak  slope  \\\n",
      "0   52    1   0       125   212    0        1      NaN      0      1.0      2   \n",
      "1   53    1   0       140   203    1        0    155.0      1      3.1      0   \n",
      "2   70    1   0       145   174    0        1    125.0      1      2.6      0   \n",
      "3   61    1   0       148   203    0        1    161.0      0      0.0      2   \n",
      "4   62    0   0       138   294    1        1    106.0      0      1.9      1   \n",
      "\n",
      "   ca  thal  target  \n",
      "0   2     3       0  \n",
      "1   0     3       0  \n",
      "2   0     3       0  \n",
      "3   1     3       0  \n",
      "4   3     2       0  \n"
     ]
    }
   ],
   "source": [
    "# Load data from a CSV file\n",
    "df = pd.read_csv('../Dataset/heart copy.csv')\n",
    "\n",
    "# Display the first few rows of the dataframe\n",
    "print(df.head())"
   ]
  },
  {
   "cell_type": "markdown",
   "metadata": {},
   "source": [
    "### [SECTION 4: Exploring the Data]\n",
    "**Script:** \"After loading the data, you might want to explore it a bit. Pandas provides several functions to understand your data better.\""
   ]
  },
  {
   "cell_type": "code",
   "execution_count": 3,
   "metadata": {},
   "outputs": [
    {
     "name": "stdout",
     "output_type": "stream",
     "text": [
      "(1025, 14)\n"
     ]
    }
   ],
   "source": [
    "# Display the shape of the dataframe\n",
    "print(df.shape)"
   ]
  },
  {
   "cell_type": "code",
   "execution_count": 4,
   "metadata": {},
   "outputs": [
    {
     "name": "stdout",
     "output_type": "stream",
     "text": [
      "<class 'pandas.core.frame.DataFrame'>\n",
      "RangeIndex: 1025 entries, 0 to 1024\n",
      "Data columns (total 14 columns):\n",
      " #   Column    Non-Null Count  Dtype  \n",
      "---  ------    --------------  -----  \n",
      " 0   age       1025 non-null   int64  \n",
      " 1   sex       1025 non-null   int64  \n",
      " 2   cp        1025 non-null   int64  \n",
      " 3   trestbps  1025 non-null   int64  \n",
      " 4   chol      1025 non-null   int64  \n",
      " 5   fbs       1025 non-null   int64  \n",
      " 6   restecg   1025 non-null   int64  \n",
      " 7   thalach   1019 non-null   float64\n",
      " 8   exang     1025 non-null   int64  \n",
      " 9   oldpeak   1025 non-null   float64\n",
      " 10  slope     1025 non-null   int64  \n",
      " 11  ca        1025 non-null   int64  \n",
      " 12  thal      1025 non-null   int64  \n",
      " 13  target    1025 non-null   int64  \n",
      "dtypes: float64(2), int64(12)\n",
      "memory usage: 112.2 KB\n",
      "None\n"
     ]
    }
   ],
   "source": [
    "# Get a summary of the dataframe\n",
    "print(df.info())"
   ]
  },
  {
   "cell_type": "code",
   "execution_count": 5,
   "metadata": {},
   "outputs": [
    {
     "name": "stdout",
     "output_type": "stream",
     "text": [
      "               age          sex           cp     trestbps        chol  \\\n",
      "count  1025.000000  1025.000000  1025.000000  1025.000000  1025.00000   \n",
      "mean     54.434146     0.695610     0.942439   131.611707   246.00000   \n",
      "std       9.072290     0.460373     1.029641    17.516718    51.59251   \n",
      "min      29.000000     0.000000     0.000000    94.000000   126.00000   \n",
      "25%      48.000000     0.000000     0.000000   120.000000   211.00000   \n",
      "50%      56.000000     1.000000     1.000000   130.000000   240.00000   \n",
      "75%      61.000000     1.000000     2.000000   140.000000   275.00000   \n",
      "max      77.000000     1.000000     3.000000   200.000000   564.00000   \n",
      "\n",
      "               fbs      restecg      thalach        exang      oldpeak  \\\n",
      "count  1025.000000  1025.000000  1019.000000  1025.000000  1025.000000   \n",
      "mean      0.149268     0.529756   149.089303     0.336585     1.071512   \n",
      "std       0.356527     0.527878    23.025161     0.472772     1.175053   \n",
      "min       0.000000     0.000000    71.000000     0.000000     0.000000   \n",
      "25%       0.000000     0.000000   132.000000     0.000000     0.000000   \n",
      "50%       0.000000     1.000000   152.000000     0.000000     0.800000   \n",
      "75%       0.000000     1.000000   166.000000     1.000000     1.800000   \n",
      "max       1.000000     2.000000   202.000000     1.000000     6.200000   \n",
      "\n",
      "             slope           ca         thal       target  \n",
      "count  1025.000000  1025.000000  1025.000000  1025.000000  \n",
      "mean      1.385366     0.754146     2.323902     0.513171  \n",
      "std       0.617755     1.030798     0.620660     0.500070  \n",
      "min       0.000000     0.000000     0.000000     0.000000  \n",
      "25%       1.000000     0.000000     2.000000     0.000000  \n",
      "50%       1.000000     0.000000     2.000000     1.000000  \n",
      "75%       2.000000     1.000000     3.000000     1.000000  \n",
      "max       2.000000     4.000000     3.000000     1.000000  \n"
     ]
    }
   ],
   "source": [
    "# Display basic statistics of the numerical columns\n",
    "print(df.describe())"
   ]
  },
  {
   "cell_type": "markdown",
   "metadata": {},
   "source": [
    "### [SECTION 5: Selecting Data]\n",
    "**Script:** \"Pandas makes it easy to select data from your DataFrame. You can select columns, rows, or specific values using different methods.\""
   ]
  },
  {
   "cell_type": "code",
   "execution_count": 6,
   "metadata": {},
   "outputs": [
    {
     "name": "stdout",
     "output_type": "stream",
     "text": [
      "0       52\n",
      "1       53\n",
      "2       70\n",
      "3       61\n",
      "4       62\n",
      "        ..\n",
      "1020    59\n",
      "1021    60\n",
      "1022    47\n",
      "1023    50\n",
      "1024    54\n",
      "Name: age, Length: 1025, dtype: int64\n"
     ]
    }
   ],
   "source": [
    "# Select a single column\n",
    "print(df['age'])"
   ]
  },
  {
   "cell_type": "code",
   "execution_count": 7,
   "metadata": {},
   "outputs": [
    {
     "name": "stdout",
     "output_type": "stream",
     "text": [
      "      age  sex\n",
      "0      52    1\n",
      "1      53    1\n",
      "2      70    1\n",
      "3      61    1\n",
      "4      62    0\n",
      "...   ...  ...\n",
      "1020   59    1\n",
      "1021   60    1\n",
      "1022   47    1\n",
      "1023   50    0\n",
      "1024   54    1\n",
      "\n",
      "[1025 rows x 2 columns]\n"
     ]
    }
   ],
   "source": [
    "# Select multiple columns\n",
    "print(df[['age', 'sex']])"
   ]
  },
  {
   "cell_type": "code",
   "execution_count": 8,
   "metadata": {},
   "outputs": [
    {
     "name": "stdout",
     "output_type": "stream",
     "text": [
      "   age  sex  cp  trestbps  chol  fbs  restecg  thalach  exang  oldpeak  slope  \\\n",
      "0   52    1   0       125   212    0        1      NaN      0      1.0      2   \n",
      "1   53    1   0       140   203    1        0    155.0      1      3.1      0   \n",
      "2   70    1   0       145   174    0        1    125.0      1      2.6      0   \n",
      "3   61    1   0       148   203    0        1    161.0      0      0.0      2   \n",
      "4   62    0   0       138   294    1        1    106.0      0      1.9      1   \n",
      "\n",
      "   ca  thal  target  \n",
      "0   2     3       0  \n",
      "1   0     3       0  \n",
      "2   0     3       0  \n",
      "3   1     3       0  \n",
      "4   3     2       0  \n"
     ]
    }
   ],
   "source": [
    "# Select rows by index\n",
    "print(df.iloc[0:5])"
   ]
  },
  {
   "cell_type": "markdown",
   "metadata": {},
   "source": [
    "### [SECTION 6: Data Manipulation]\n",
    "**Script:** \"Pandas also offers powerful data manipulation features. You can add new columns, drop unnecessary ones, handle missing data, and more.\""
   ]
  },
  {
   "cell_type": "code",
   "execution_count": 9,
   "metadata": {},
   "outputs": [],
   "source": [
    "# Add a new column\n",
    "df['demo_01'] = df['age'] + df['sex']"
   ]
  },
  {
   "cell_type": "code",
   "execution_count": 10,
   "metadata": {},
   "outputs": [],
   "source": [
    "# Drop a column\n",
    "df = df.drop('cp', axis=1)"
   ]
  },
  {
   "cell_type": "code",
   "execution_count": 11,
   "metadata": {},
   "outputs": [
    {
     "data": {
      "text/html": [
       "<div>\n",
       "<style scoped>\n",
       "    .dataframe tbody tr th:only-of-type {\n",
       "        vertical-align: middle;\n",
       "    }\n",
       "\n",
       "    .dataframe tbody tr th {\n",
       "        vertical-align: top;\n",
       "    }\n",
       "\n",
       "    .dataframe thead th {\n",
       "        text-align: right;\n",
       "    }\n",
       "</style>\n",
       "<table border=\"1\" class=\"dataframe\">\n",
       "  <thead>\n",
       "    <tr style=\"text-align: right;\">\n",
       "      <th></th>\n",
       "      <th>age</th>\n",
       "      <th>sex</th>\n",
       "      <th>trestbps</th>\n",
       "      <th>chol</th>\n",
       "      <th>fbs</th>\n",
       "      <th>restecg</th>\n",
       "      <th>thalach</th>\n",
       "      <th>exang</th>\n",
       "      <th>oldpeak</th>\n",
       "      <th>slope</th>\n",
       "      <th>ca</th>\n",
       "      <th>thal</th>\n",
       "      <th>target</th>\n",
       "      <th>demo_01</th>\n",
       "    </tr>\n",
       "  </thead>\n",
       "  <tbody>\n",
       "    <tr>\n",
       "      <th>0</th>\n",
       "      <td>52</td>\n",
       "      <td>1</td>\n",
       "      <td>125</td>\n",
       "      <td>212</td>\n",
       "      <td>0</td>\n",
       "      <td>1</td>\n",
       "      <td>NaN</td>\n",
       "      <td>0</td>\n",
       "      <td>1.0</td>\n",
       "      <td>2</td>\n",
       "      <td>2</td>\n",
       "      <td>3</td>\n",
       "      <td>0</td>\n",
       "      <td>53</td>\n",
       "    </tr>\n",
       "    <tr>\n",
       "      <th>1</th>\n",
       "      <td>53</td>\n",
       "      <td>1</td>\n",
       "      <td>140</td>\n",
       "      <td>203</td>\n",
       "      <td>1</td>\n",
       "      <td>0</td>\n",
       "      <td>155.0</td>\n",
       "      <td>1</td>\n",
       "      <td>3.1</td>\n",
       "      <td>0</td>\n",
       "      <td>0</td>\n",
       "      <td>3</td>\n",
       "      <td>0</td>\n",
       "      <td>54</td>\n",
       "    </tr>\n",
       "    <tr>\n",
       "      <th>2</th>\n",
       "      <td>70</td>\n",
       "      <td>1</td>\n",
       "      <td>145</td>\n",
       "      <td>174</td>\n",
       "      <td>0</td>\n",
       "      <td>1</td>\n",
       "      <td>125.0</td>\n",
       "      <td>1</td>\n",
       "      <td>2.6</td>\n",
       "      <td>0</td>\n",
       "      <td>0</td>\n",
       "      <td>3</td>\n",
       "      <td>0</td>\n",
       "      <td>71</td>\n",
       "    </tr>\n",
       "    <tr>\n",
       "      <th>3</th>\n",
       "      <td>61</td>\n",
       "      <td>1</td>\n",
       "      <td>148</td>\n",
       "      <td>203</td>\n",
       "      <td>0</td>\n",
       "      <td>1</td>\n",
       "      <td>161.0</td>\n",
       "      <td>0</td>\n",
       "      <td>0.0</td>\n",
       "      <td>2</td>\n",
       "      <td>1</td>\n",
       "      <td>3</td>\n",
       "      <td>0</td>\n",
       "      <td>62</td>\n",
       "    </tr>\n",
       "    <tr>\n",
       "      <th>4</th>\n",
       "      <td>62</td>\n",
       "      <td>0</td>\n",
       "      <td>138</td>\n",
       "      <td>294</td>\n",
       "      <td>1</td>\n",
       "      <td>1</td>\n",
       "      <td>106.0</td>\n",
       "      <td>0</td>\n",
       "      <td>1.9</td>\n",
       "      <td>1</td>\n",
       "      <td>3</td>\n",
       "      <td>2</td>\n",
       "      <td>0</td>\n",
       "      <td>62</td>\n",
       "    </tr>\n",
       "    <tr>\n",
       "      <th>5</th>\n",
       "      <td>58</td>\n",
       "      <td>0</td>\n",
       "      <td>100</td>\n",
       "      <td>248</td>\n",
       "      <td>0</td>\n",
       "      <td>0</td>\n",
       "      <td>122.0</td>\n",
       "      <td>0</td>\n",
       "      <td>1.0</td>\n",
       "      <td>1</td>\n",
       "      <td>0</td>\n",
       "      <td>2</td>\n",
       "      <td>1</td>\n",
       "      <td>58</td>\n",
       "    </tr>\n",
       "    <tr>\n",
       "      <th>6</th>\n",
       "      <td>58</td>\n",
       "      <td>1</td>\n",
       "      <td>114</td>\n",
       "      <td>318</td>\n",
       "      <td>0</td>\n",
       "      <td>2</td>\n",
       "      <td>140.0</td>\n",
       "      <td>0</td>\n",
       "      <td>4.4</td>\n",
       "      <td>0</td>\n",
       "      <td>3</td>\n",
       "      <td>1</td>\n",
       "      <td>0</td>\n",
       "      <td>59</td>\n",
       "    </tr>\n",
       "    <tr>\n",
       "      <th>7</th>\n",
       "      <td>55</td>\n",
       "      <td>1</td>\n",
       "      <td>160</td>\n",
       "      <td>289</td>\n",
       "      <td>0</td>\n",
       "      <td>0</td>\n",
       "      <td>145.0</td>\n",
       "      <td>1</td>\n",
       "      <td>0.8</td>\n",
       "      <td>1</td>\n",
       "      <td>1</td>\n",
       "      <td>3</td>\n",
       "      <td>0</td>\n",
       "      <td>56</td>\n",
       "    </tr>\n",
       "    <tr>\n",
       "      <th>8</th>\n",
       "      <td>46</td>\n",
       "      <td>1</td>\n",
       "      <td>120</td>\n",
       "      <td>249</td>\n",
       "      <td>0</td>\n",
       "      <td>0</td>\n",
       "      <td>144.0</td>\n",
       "      <td>0</td>\n",
       "      <td>0.8</td>\n",
       "      <td>2</td>\n",
       "      <td>0</td>\n",
       "      <td>3</td>\n",
       "      <td>0</td>\n",
       "      <td>47</td>\n",
       "    </tr>\n",
       "    <tr>\n",
       "      <th>9</th>\n",
       "      <td>54</td>\n",
       "      <td>1</td>\n",
       "      <td>122</td>\n",
       "      <td>286</td>\n",
       "      <td>0</td>\n",
       "      <td>0</td>\n",
       "      <td>116.0</td>\n",
       "      <td>1</td>\n",
       "      <td>3.2</td>\n",
       "      <td>1</td>\n",
       "      <td>2</td>\n",
       "      <td>2</td>\n",
       "      <td>0</td>\n",
       "      <td>55</td>\n",
       "    </tr>\n",
       "  </tbody>\n",
       "</table>\n",
       "</div>"
      ],
      "text/plain": [
       "   age  sex  trestbps  chol  fbs  restecg  thalach  exang  oldpeak  slope  ca  \\\n",
       "0   52    1       125   212    0        1      NaN      0      1.0      2   2   \n",
       "1   53    1       140   203    1        0    155.0      1      3.1      0   0   \n",
       "2   70    1       145   174    0        1    125.0      1      2.6      0   0   \n",
       "3   61    1       148   203    0        1    161.0      0      0.0      2   1   \n",
       "4   62    0       138   294    1        1    106.0      0      1.9      1   3   \n",
       "5   58    0       100   248    0        0    122.0      0      1.0      1   0   \n",
       "6   58    1       114   318    0        2    140.0      0      4.4      0   3   \n",
       "7   55    1       160   289    0        0    145.0      1      0.8      1   1   \n",
       "8   46    1       120   249    0        0    144.0      0      0.8      2   0   \n",
       "9   54    1       122   286    0        0    116.0      1      3.2      1   2   \n",
       "\n",
       "   thal  target  demo_01  \n",
       "0     3       0       53  \n",
       "1     3       0       54  \n",
       "2     3       0       71  \n",
       "3     3       0       62  \n",
       "4     2       0       62  \n",
       "5     2       1       58  \n",
       "6     1       0       59  \n",
       "7     3       0       56  \n",
       "8     3       0       47  \n",
       "9     2       0       55  "
      ]
     },
     "execution_count": 11,
     "metadata": {},
     "output_type": "execute_result"
    }
   ],
   "source": [
    "df.head(10)"
   ]
  },
  {
   "cell_type": "code",
   "execution_count": 12,
   "metadata": {},
   "outputs": [
    {
     "name": "stdout",
     "output_type": "stream",
     "text": [
      "<class 'pandas.core.frame.DataFrame'>\n",
      "RangeIndex: 1025 entries, 0 to 1024\n",
      "Data columns (total 14 columns):\n",
      " #   Column    Non-Null Count  Dtype  \n",
      "---  ------    --------------  -----  \n",
      " 0   age       1025 non-null   int64  \n",
      " 1   sex       1025 non-null   int64  \n",
      " 2   trestbps  1025 non-null   int64  \n",
      " 3   chol      1025 non-null   int64  \n",
      " 4   fbs       1025 non-null   int64  \n",
      " 5   restecg   1025 non-null   int64  \n",
      " 6   thalach   1019 non-null   float64\n",
      " 7   exang     1025 non-null   int64  \n",
      " 8   oldpeak   1025 non-null   float64\n",
      " 9   slope     1025 non-null   int64  \n",
      " 10  ca        1025 non-null   int64  \n",
      " 11  thal      1025 non-null   int64  \n",
      " 12  target    1025 non-null   int64  \n",
      " 13  demo_01   1025 non-null   int64  \n",
      "dtypes: float64(2), int64(12)\n",
      "memory usage: 112.2 KB\n"
     ]
    }
   ],
   "source": [
    "df.info()"
   ]
  },
  {
   "cell_type": "code",
   "execution_count": 13,
   "metadata": {},
   "outputs": [],
   "source": [
    "# Fill missing values\n",
    "# df['thalach'] = df['thalach'].fillna(0) # # Replace missing values with 0\n",
    "\n",
    "# df['thalach'] = df['thalach'].fillna(df['thalach'].mean())  # Replace missing values with the mean\n",
    "\n",
    "# df['thalach'] = df['thalach'].fillna(df['thalach'].median())  # Replace missing values with the median\n",
    "\n",
    "# df['thalach'] = df['thalach'].fillna(df['thalach'].mode()[0])  # Replace missing values with the mode\n"
   ]
  },
  {
   "cell_type": "code",
   "execution_count": 14,
   "metadata": {},
   "outputs": [
    {
     "name": "stdout",
     "output_type": "stream",
     "text": [
      "<class 'pandas.core.frame.DataFrame'>\n",
      "RangeIndex: 1025 entries, 0 to 1024\n",
      "Data columns (total 14 columns):\n",
      " #   Column    Non-Null Count  Dtype  \n",
      "---  ------    --------------  -----  \n",
      " 0   age       1025 non-null   int64  \n",
      " 1   sex       1025 non-null   int64  \n",
      " 2   trestbps  1025 non-null   int64  \n",
      " 3   chol      1025 non-null   int64  \n",
      " 4   fbs       1025 non-null   int64  \n",
      " 5   restecg   1025 non-null   int64  \n",
      " 6   thalach   1019 non-null   float64\n",
      " 7   exang     1025 non-null   int64  \n",
      " 8   oldpeak   1025 non-null   float64\n",
      " 9   slope     1025 non-null   int64  \n",
      " 10  ca        1025 non-null   int64  \n",
      " 11  thal      1025 non-null   int64  \n",
      " 12  target    1025 non-null   int64  \n",
      " 13  demo_01   1025 non-null   int64  \n",
      "dtypes: float64(2), int64(12)\n",
      "memory usage: 112.2 KB\n"
     ]
    }
   ],
   "source": [
    "df.info()"
   ]
  },
  {
   "cell_type": "code",
   "execution_count": 15,
   "metadata": {},
   "outputs": [],
   "source": [
    "# Remove rows with missing values\n",
    "df = df.dropna()"
   ]
  },
  {
   "cell_type": "code",
   "execution_count": 16,
   "metadata": {},
   "outputs": [
    {
     "name": "stdout",
     "output_type": "stream",
     "text": [
      "<class 'pandas.core.frame.DataFrame'>\n",
      "Index: 1019 entries, 1 to 1024\n",
      "Data columns (total 14 columns):\n",
      " #   Column    Non-Null Count  Dtype  \n",
      "---  ------    --------------  -----  \n",
      " 0   age       1019 non-null   int64  \n",
      " 1   sex       1019 non-null   int64  \n",
      " 2   trestbps  1019 non-null   int64  \n",
      " 3   chol      1019 non-null   int64  \n",
      " 4   fbs       1019 non-null   int64  \n",
      " 5   restecg   1019 non-null   int64  \n",
      " 6   thalach   1019 non-null   float64\n",
      " 7   exang     1019 non-null   int64  \n",
      " 8   oldpeak   1019 non-null   float64\n",
      " 9   slope     1019 non-null   int64  \n",
      " 10  ca        1019 non-null   int64  \n",
      " 11  thal      1019 non-null   int64  \n",
      " 12  target    1019 non-null   int64  \n",
      " 13  demo_01   1019 non-null   int64  \n",
      "dtypes: float64(2), int64(12)\n",
      "memory usage: 119.4 KB\n"
     ]
    }
   ],
   "source": [
    "df.info()"
   ]
  },
  {
   "cell_type": "markdown",
   "metadata": {},
   "source": [
    "### [SECTION 8: Saving Data]\n",
    "**Script:** \"Once you're done with your data analysis or manipulation, you might want to save your work. Pandas makes it easy to save your DataFrame to a file.\""
   ]
  },
  {
   "cell_type": "code",
   "execution_count": 17,
   "metadata": {},
   "outputs": [],
   "source": [
    "# Save the dataframe to a new CSV file\n",
    "df.to_csv('../New Dataset/new_dataset.csv', index=False)\n",
    "\n",
    "# Save the dataframe to an Excel file\n",
    "df.to_excel('../New Dataset/new_dataset.xlsx', index=False)\n"
   ]
  },
  {
   "cell_type": "markdown",
   "metadata": {},
   "source": [
    "## [OUTRO]\n",
    "**Script:** \"That wraps up our introduction to Pandas! We've covered how to load, explore, manipulate, and save data using Pandas. If you missed the previous videos on setting up your environment, be sure to check them out. I hope this tutorial helps you get started with your data analysis projects. Don't forget to like, share, and subscribe for more content. Thanks for watching!\""
   ]
  }
 ],
 "metadata": {
  "kernelspec": {
   "display_name": "nullclass",
   "language": "python",
   "name": "python3"
  },
  "language_info": {
   "codemirror_mode": {
    "name": "ipython",
    "version": 3
   },
   "file_extension": ".py",
   "mimetype": "text/x-python",
   "name": "python",
   "nbconvert_exporter": "python",
   "pygments_lexer": "ipython3",
   "version": "3.12.4"
  }
 },
 "nbformat": 4,
 "nbformat_minor": 2
}
